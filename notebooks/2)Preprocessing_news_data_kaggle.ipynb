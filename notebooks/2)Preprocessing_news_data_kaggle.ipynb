{
 "cells": [
  {
   "cell_type": "markdown",
   "id": "39f4b344",
   "metadata": {},
   "source": [
    "## Preprocessing "
   ]
  },
  {
   "cell_type": "code",
   "execution_count": 21,
   "id": "197444d1",
   "metadata": {},
   "outputs": [],
   "source": [
    "# All imports\n",
    "import pandas as pd\n",
    "import pandas as pd\n",
    "import re\n",
    "import string\n",
    "import nltk\n",
    "import random\n",
    "from datetime import datetime, timedelta\n",
    "from nltk.corpus import stopwords\n",
    "from nltk.tokenize import word_tokenize\n",
    "from nltk.stem import WordNetLemmatizer\n",
    "import warnings\n",
    "warnings.filterwarnings('ignore')"
   ]
  },
  {
   "cell_type": "markdown",
   "id": "3ef2f4f3",
   "metadata": {},
   "source": [
    "#### Preprocessing function"
   ]
  },
  {
   "cell_type": "code",
   "execution_count": 2,
   "id": "8ba0b9ab",
   "metadata": {},
   "outputs": [],
   "source": [
    "def preprocess_text(text):\n",
    " \n",
    "    # Convert text to lowercase\n",
    "    text = text.lower()\n",
    "\n",
    "    # Remove numbers and special characters\n",
    "    text = re.sub(r'\\d+', '', text)\n",
    "    text = re.sub(r'[^a-zA-Z0-9\\s\\']', '', text)\n",
    "    text = text.translate(str.maketrans('', '', string.punctuation))\n",
    "\n",
    "    # Tokenize the text into words\n",
    "    words = word_tokenize(text)\n",
    "\n",
    "    # Remove stopwords\n",
    "    stop_words = set(stopwords.words('english'))\n",
    "    words = [word for word in words if word not in stop_words]\n",
    "\n",
    "    # Lemmatize words\n",
    "    lemmatizer = WordNetLemmatizer()\n",
    "    words = [lemmatizer.lemmatize(word) for word in words]\n",
    "\n",
    "    # Join the preprocessed words back into a single string\n",
    "    preprocessed_text = ' '.join(words)\n",
    "\n",
    "    return preprocessed_text"
   ]
  },
  {
   "cell_type": "markdown",
   "id": "001c45ed",
   "metadata": {},
   "source": [
    "## 1) Kaggle Data (2013 - 2017)"
   ]
  },
  {
   "cell_type": "code",
   "execution_count": 3,
   "id": "fc7c23b9",
   "metadata": {},
   "outputs": [],
   "source": [
    "News=pd.read_csv('crypto_news_parsed_2013-2017_train.csv') "
   ]
  },
  {
   "cell_type": "code",
   "execution_count": 4,
   "id": "04373849",
   "metadata": {},
   "outputs": [],
   "source": [
    "News1 = News.drop(['url','html','author','source'], axis=1)"
   ]
  },
  {
   "cell_type": "code",
   "execution_count": 5,
   "id": "9ff4a12e",
   "metadata": {},
   "outputs": [
    {
     "data": {
      "text/html": [
       "<div>\n",
       "<style scoped>\n",
       "    .dataframe tbody tr th:only-of-type {\n",
       "        vertical-align: middle;\n",
       "    }\n",
       "\n",
       "    .dataframe tbody tr th {\n",
       "        vertical-align: top;\n",
       "    }\n",
       "\n",
       "    .dataframe thead th {\n",
       "        text-align: right;\n",
       "    }\n",
       "</style>\n",
       "<table border=\"1\" class=\"dataframe\">\n",
       "  <thead>\n",
       "    <tr style=\"text-align: right;\">\n",
       "      <th></th>\n",
       "      <th>title</th>\n",
       "      <th>text</th>\n",
       "      <th>year</th>\n",
       "    </tr>\n",
       "  </thead>\n",
       "  <tbody>\n",
       "    <tr>\n",
       "      <th>0</th>\n",
       "      <td>Bitcoin Price Update: Will China Lead us Down?</td>\n",
       "      <td>Bitcoin Priced in USD on Mt. GoxAbove is Gox p...</td>\n",
       "      <td>2013</td>\n",
       "    </tr>\n",
       "    <tr>\n",
       "      <th>1</th>\n",
       "      <td>Key Bitcoin Price Levels for Week 51 (15 – 22 ...</td>\n",
       "      <td>The Bitcoin price up to 2013/12/14, with Fib l...</td>\n",
       "      <td>2013</td>\n",
       "    </tr>\n",
       "    <tr>\n",
       "      <th>2</th>\n",
       "      <td>National Australia Bank, Citing Highly Flawed ...</td>\n",
       "      <td>National Australia Bank looms over Melbourne’s...</td>\n",
       "      <td>2013</td>\n",
       "    </tr>\n",
       "    <tr>\n",
       "      <th>3</th>\n",
       "      <td>Chinese Bitcoin Ban Driven by  Chinese Banking...</td>\n",
       "      <td>Recent reports from China indicate there may b...</td>\n",
       "      <td>2013</td>\n",
       "    </tr>\n",
       "    <tr>\n",
       "      <th>4</th>\n",
       "      <td>Bitcoin Trade Update: Opened Position</td>\n",
       "      <td>Opened 1st Bitcoin trade position, price curre...</td>\n",
       "      <td>2013</td>\n",
       "    </tr>\n",
       "  </tbody>\n",
       "</table>\n",
       "</div>"
      ],
      "text/plain": [
       "                                               title  \\\n",
       "0     Bitcoin Price Update: Will China Lead us Down?   \n",
       "1  Key Bitcoin Price Levels for Week 51 (15 – 22 ...   \n",
       "2  National Australia Bank, Citing Highly Flawed ...   \n",
       "3  Chinese Bitcoin Ban Driven by  Chinese Banking...   \n",
       "4              Bitcoin Trade Update: Opened Position   \n",
       "\n",
       "                                                text  year  \n",
       "0  Bitcoin Priced in USD on Mt. GoxAbove is Gox p...  2013  \n",
       "1  The Bitcoin price up to 2013/12/14, with Fib l...  2013  \n",
       "2  National Australia Bank looms over Melbourne’s...  2013  \n",
       "3  Recent reports from China indicate there may b...  2013  \n",
       "4  Opened 1st Bitcoin trade position, price curre...  2013  "
      ]
     },
     "execution_count": 5,
     "metadata": {},
     "output_type": "execute_result"
    }
   ],
   "source": [
    "News1.head()"
   ]
  },
  {
   "cell_type": "code",
   "execution_count": 6,
   "id": "d11ea9bd",
   "metadata": {},
   "outputs": [
    {
     "name": "stdout",
     "output_type": "stream",
     "text": [
      "title    28066\n",
      "text     28066\n",
      "year     28066\n",
      "dtype: int64\n"
     ]
    }
   ],
   "source": [
    "News1 = News1.dropna() #getting rid of full empty rows\n",
    "print(News1.count())"
   ]
  },
  {
   "cell_type": "code",
   "execution_count": 7,
   "id": "014789fd",
   "metadata": {},
   "outputs": [],
   "source": [
    "# Apply the preprocess_text function to the DataFrame column\n",
    "News1['preprocessed_title'] = News1['title'].apply(preprocess_text)"
   ]
  },
  {
   "cell_type": "code",
   "execution_count": 8,
   "id": "2a3d1834",
   "metadata": {},
   "outputs": [],
   "source": [
    "# Apply the preprocess_text function to the DataFrame column\n",
    "News1['preprocessed_text'] = News1['text'].apply(preprocess_text)"
   ]
  },
  {
   "cell_type": "code",
   "execution_count": 22,
   "id": "6b71121d",
   "metadata": {},
   "outputs": [
    {
     "data": {
      "text/html": [
       "<div>\n",
       "<style scoped>\n",
       "    .dataframe tbody tr th:only-of-type {\n",
       "        vertical-align: middle;\n",
       "    }\n",
       "\n",
       "    .dataframe tbody tr th {\n",
       "        vertical-align: top;\n",
       "    }\n",
       "\n",
       "    .dataframe thead th {\n",
       "        text-align: right;\n",
       "    }\n",
       "</style>\n",
       "<table border=\"1\" class=\"dataframe\">\n",
       "  <thead>\n",
       "    <tr style=\"text-align: right;\">\n",
       "      <th></th>\n",
       "      <th>news</th>\n",
       "      <th>date</th>\n",
       "    </tr>\n",
       "  </thead>\n",
       "  <tbody>\n",
       "    <tr>\n",
       "      <th>0</th>\n",
       "      <td>bitcoin priced usd mt goxabove gox price pm gm...</td>\n",
       "      <td>2017-08-15</td>\n",
       "    </tr>\n",
       "    <tr>\n",
       "      <th>1</th>\n",
       "      <td>bitcoin price fib level dmas ok last week like...</td>\n",
       "      <td>2017-05-12</td>\n",
       "    </tr>\n",
       "    <tr>\n",
       "      <th>2</th>\n",
       "      <td>national australia bank loom melbourne citizen...</td>\n",
       "      <td>2017-09-19</td>\n",
       "    </tr>\n",
       "    <tr>\n",
       "      <th>3</th>\n",
       "      <td>recent report china indicate may bitcoin ban m...</td>\n",
       "      <td>2014-10-03</td>\n",
       "    </tr>\n",
       "    <tr>\n",
       "      <th>4</th>\n",
       "      <td>opened st bitcoin trade position price current...</td>\n",
       "      <td>2016-01-15</td>\n",
       "    </tr>\n",
       "    <tr>\n",
       "      <th>...</th>\n",
       "      <td>...</td>\n",
       "      <td>...</td>\n",
       "    </tr>\n",
       "    <tr>\n",
       "      <th>28064</th>\n",
       "      <td>modern human remember dozen logins password ac...</td>\n",
       "      <td>2013-08-25</td>\n",
       "    </tr>\n",
       "    <tr>\n",
       "      <th>28065</th>\n",
       "      <td>former u secret service agent sentenced month ...</td>\n",
       "      <td>2013-09-09</td>\n",
       "    </tr>\n",
       "    <tr>\n",
       "      <th>28066</th>\n",
       "      <td>head shanghai financial service office called ...</td>\n",
       "      <td>2014-08-26</td>\n",
       "    </tr>\n",
       "    <tr>\n",
       "      <th>28067</th>\n",
       "      <td>cryptocurrency expert punting bitcoin price re...</td>\n",
       "      <td>2014-08-03</td>\n",
       "    </tr>\n",
       "    <tr>\n",
       "      <th>28068</th>\n",
       "      <td>gavin andresen largely retired bitcoin work to...</td>\n",
       "      <td>2016-09-29</td>\n",
       "    </tr>\n",
       "  </tbody>\n",
       "</table>\n",
       "<p>28066 rows × 2 columns</p>\n",
       "</div>"
      ],
      "text/plain": [
       "                                                    news       date\n",
       "0      bitcoin priced usd mt goxabove gox price pm gm... 2017-08-15\n",
       "1      bitcoin price fib level dmas ok last week like... 2017-05-12\n",
       "2      national australia bank loom melbourne citizen... 2017-09-19\n",
       "3      recent report china indicate may bitcoin ban m... 2014-10-03\n",
       "4      opened st bitcoin trade position price current... 2016-01-15\n",
       "...                                                  ...        ...\n",
       "28064  modern human remember dozen logins password ac... 2013-08-25\n",
       "28065  former u secret service agent sentenced month ... 2013-09-09\n",
       "28066  head shanghai financial service office called ... 2014-08-26\n",
       "28067  cryptocurrency expert punting bitcoin price re... 2014-08-03\n",
       "28068  gavin andresen largely retired bitcoin work to... 2016-09-29\n",
       "\n",
       "[28066 rows x 2 columns]"
      ]
     },
     "execution_count": 22,
     "metadata": {},
     "output_type": "execute_result"
    }
   ],
   "source": [
    "#combining both\n",
    "processed = News1['preprocessed_text'] + News1['preprocessed_title']\n",
    "# Create a new DataFrame for further process\n",
    "processed_kaggle = pd.DataFrame(processed)\n",
    "processed_kaggle.columns = ['news']\n",
    "\n",
    "start_date = datetime(2013, 1, 1)  \n",
    "end_date = datetime(2017, 12, 31)\n",
    "processed_kaggle['date'] = News1['year'].apply(lambda year: start_date + timedelta(days=random.randint(0, (end_date - start_date).days)))\n",
    "\n",
    "processed_kaggle"
   ]
  },
  {
   "cell_type": "markdown",
   "id": "4706edae",
   "metadata": {},
   "source": [
    "## 2) Scraped crypto News"
   ]
  },
  {
   "cell_type": "code",
   "execution_count": 11,
   "id": "c04eb539",
   "metadata": {},
   "outputs": [
    {
     "data": {
      "text/html": [
       "<div>\n",
       "<style scoped>\n",
       "    .dataframe tbody tr th:only-of-type {\n",
       "        vertical-align: middle;\n",
       "    }\n",
       "\n",
       "    .dataframe tbody tr th {\n",
       "        vertical-align: top;\n",
       "    }\n",
       "\n",
       "    .dataframe thead th {\n",
       "        text-align: right;\n",
       "    }\n",
       "</style>\n",
       "<table border=\"1\" class=\"dataframe\">\n",
       "  <thead>\n",
       "    <tr style=\"text-align: right;\">\n",
       "      <th></th>\n",
       "      <th>Title</th>\n",
       "      <th>Date</th>\n",
       "    </tr>\n",
       "  </thead>\n",
       "  <tbody>\n",
       "    <tr>\n",
       "      <th>0</th>\n",
       "      <td>Bitcoin Price Prediction: 'Uptober' Surge, US ...</td>\n",
       "      <td>2023-10-03 09:03:00</td>\n",
       "    </tr>\n",
       "    <tr>\n",
       "      <th>1</th>\n",
       "      <td>Analyst Lists 5 Reasons BTC Price Can Hit $40,...</td>\n",
       "      <td>2023-10-02 21:04:00</td>\n",
       "    </tr>\n",
       "    <tr>\n",
       "      <th>2</th>\n",
       "      <td>Bitcoin Price Prediction as BTC Blasts Up 8% –...</td>\n",
       "      <td>2023-10-02 19:00:00</td>\n",
       "    </tr>\n",
       "    <tr>\n",
       "      <th>3</th>\n",
       "      <td>Bitfarms Mines 411 BTC in September, Increases...</td>\n",
       "      <td>2023-10-02 18:53:00</td>\n",
       "    </tr>\n",
       "    <tr>\n",
       "      <th>4</th>\n",
       "      <td>Bitcoin Price Prediction: BTC Rise 8% Amid ETF...</td>\n",
       "      <td>2023-10-02 08:00:00</td>\n",
       "    </tr>\n",
       "    <tr>\n",
       "      <th>...</th>\n",
       "      <td>...</td>\n",
       "      <td>...</td>\n",
       "    </tr>\n",
       "    <tr>\n",
       "      <th>9442</th>\n",
       "      <td>Market is Caught In a Tug-of-War</td>\n",
       "      <td>2018-05-22 09:43:00</td>\n",
       "    </tr>\n",
       "    <tr>\n",
       "      <th>9443</th>\n",
       "      <td>Market Weekly Outlook: Bitcoin and Altcoins Bo...</td>\n",
       "      <td>2018-05-21 09:48:00</td>\n",
       "    </tr>\n",
       "    <tr>\n",
       "      <th>9444</th>\n",
       "      <td>Bitcoin and Altcoins are Consolidating Losses</td>\n",
       "      <td>2018-05-18 09:17:00</td>\n",
       "    </tr>\n",
       "    <tr>\n",
       "      <th>9445</th>\n",
       "      <td>Bitcoin and Altcoins Under Pressure Despite Co...</td>\n",
       "      <td>2018-05-17 09:38:00</td>\n",
       "    </tr>\n",
       "    <tr>\n",
       "      <th>9446</th>\n",
       "      <td>Bitcoin and Altcoins Rally Unravels</td>\n",
       "      <td>2018-05-16 09:35:00</td>\n",
       "    </tr>\n",
       "  </tbody>\n",
       "</table>\n",
       "<p>9447 rows × 2 columns</p>\n",
       "</div>"
      ],
      "text/plain": [
       "                                                  Title                 Date\n",
       "0     Bitcoin Price Prediction: 'Uptober' Surge, US ...  2023-10-03 09:03:00\n",
       "1     Analyst Lists 5 Reasons BTC Price Can Hit $40,...  2023-10-02 21:04:00\n",
       "2     Bitcoin Price Prediction as BTC Blasts Up 8% –...  2023-10-02 19:00:00\n",
       "3     Bitfarms Mines 411 BTC in September, Increases...  2023-10-02 18:53:00\n",
       "4     Bitcoin Price Prediction: BTC Rise 8% Amid ETF...  2023-10-02 08:00:00\n",
       "...                                                 ...                  ...\n",
       "9442                   Market is Caught In a Tug-of-War  2018-05-22 09:43:00\n",
       "9443  Market Weekly Outlook: Bitcoin and Altcoins Bo...  2018-05-21 09:48:00\n",
       "9444      Bitcoin and Altcoins are Consolidating Losses  2018-05-18 09:17:00\n",
       "9445  Bitcoin and Altcoins Under Pressure Despite Co...  2018-05-17 09:38:00\n",
       "9446                Bitcoin and Altcoins Rally Unravels  2018-05-16 09:35:00\n",
       "\n",
       "[9447 rows x 2 columns]"
      ]
     },
     "execution_count": 11,
     "metadata": {},
     "output_type": "execute_result"
    }
   ],
   "source": [
    "Crnews=pd.read_csv('crypto_news.csv')\n",
    "Crnews1 = Crnews.drop(['URL'], axis=1)\n",
    "Crnews1"
   ]
  },
  {
   "cell_type": "code",
   "execution_count": 12,
   "id": "130fed88",
   "metadata": {},
   "outputs": [
    {
     "name": "stdout",
     "output_type": "stream",
     "text": [
      "Title    9447\n",
      "Date     9447\n",
      "dtype: int64\n"
     ]
    }
   ],
   "source": [
    "Crnews1 = Crnews1.dropna() #getting rid of full empty rows\n",
    "print(Crnews1.count())"
   ]
  },
  {
   "cell_type": "code",
   "execution_count": 13,
   "id": "3f5da57c",
   "metadata": {},
   "outputs": [],
   "source": [
    "# Apply the preprocess_text function to the DataFrame column\n",
    "Crnews1['Title'] = Crnews1['Title'].apply(preprocess_text)"
   ]
  },
  {
   "cell_type": "code",
   "execution_count": 28,
   "id": "e0e01992",
   "metadata": {},
   "outputs": [
    {
     "data": {
      "text/html": [
       "<div>\n",
       "<style scoped>\n",
       "    .dataframe tbody tr th:only-of-type {\n",
       "        vertical-align: middle;\n",
       "    }\n",
       "\n",
       "    .dataframe tbody tr th {\n",
       "        vertical-align: top;\n",
       "    }\n",
       "\n",
       "    .dataframe thead th {\n",
       "        text-align: right;\n",
       "    }\n",
       "</style>\n",
       "<table border=\"1\" class=\"dataframe\">\n",
       "  <thead>\n",
       "    <tr style=\"text-align: right;\">\n",
       "      <th></th>\n",
       "      <th>news</th>\n",
       "      <th>date</th>\n",
       "    </tr>\n",
       "  </thead>\n",
       "  <tbody>\n",
       "    <tr>\n",
       "      <th>0</th>\n",
       "      <td>bitcoin price prediction uptober surge u warni...</td>\n",
       "      <td>2023-10-03</td>\n",
       "    </tr>\n",
       "    <tr>\n",
       "      <th>1</th>\n",
       "      <td>analyst list reason btc price hit october bitc...</td>\n",
       "      <td>2023-10-02</td>\n",
       "    </tr>\n",
       "    <tr>\n",
       "      <th>2</th>\n",
       "      <td>bitcoin price prediction btc blast new bull ma...</td>\n",
       "      <td>2023-10-02</td>\n",
       "    </tr>\n",
       "    <tr>\n",
       "      <th>3</th>\n",
       "      <td>bitfarms mine btc september increase hashrate</td>\n",
       "      <td>2023-10-02</td>\n",
       "    </tr>\n",
       "    <tr>\n",
       "      <th>4</th>\n",
       "      <td>bitcoin price prediction btc rise amid etf app...</td>\n",
       "      <td>2023-10-02</td>\n",
       "    </tr>\n",
       "    <tr>\n",
       "      <th>...</th>\n",
       "      <td>...</td>\n",
       "      <td>...</td>\n",
       "    </tr>\n",
       "    <tr>\n",
       "      <th>9442</th>\n",
       "      <td>market caught tugofwar</td>\n",
       "      <td>2018-05-22</td>\n",
       "    </tr>\n",
       "    <tr>\n",
       "      <th>9443</th>\n",
       "      <td>market weekly outlook bitcoin altcoins bounce ...</td>\n",
       "      <td>2018-05-21</td>\n",
       "    </tr>\n",
       "    <tr>\n",
       "      <th>9444</th>\n",
       "      <td>bitcoin altcoins consolidating loss</td>\n",
       "      <td>2018-05-18</td>\n",
       "    </tr>\n",
       "    <tr>\n",
       "      <th>9445</th>\n",
       "      <td>bitcoin altcoins pressure despite consensus</td>\n",
       "      <td>2018-05-17</td>\n",
       "    </tr>\n",
       "    <tr>\n",
       "      <th>9446</th>\n",
       "      <td>bitcoin altcoins rally unravels</td>\n",
       "      <td>2018-05-16</td>\n",
       "    </tr>\n",
       "  </tbody>\n",
       "</table>\n",
       "<p>9447 rows × 2 columns</p>\n",
       "</div>"
      ],
      "text/plain": [
       "                                                   news       date\n",
       "0     bitcoin price prediction uptober surge u warni... 2023-10-03\n",
       "1     analyst list reason btc price hit october bitc... 2023-10-02\n",
       "2     bitcoin price prediction btc blast new bull ma... 2023-10-02\n",
       "3         bitfarms mine btc september increase hashrate 2023-10-02\n",
       "4     bitcoin price prediction btc rise amid etf app... 2023-10-02\n",
       "...                                                 ...        ...\n",
       "9442                             market caught tugofwar 2018-05-22\n",
       "9443  market weekly outlook bitcoin altcoins bounce ... 2018-05-21\n",
       "9444                bitcoin altcoins consolidating loss 2018-05-18\n",
       "9445        bitcoin altcoins pressure despite consensus 2018-05-17\n",
       "9446                    bitcoin altcoins rally unravels 2018-05-16\n",
       "\n",
       "[9447 rows x 2 columns]"
      ]
     },
     "execution_count": 28,
     "metadata": {},
     "output_type": "execute_result"
    }
   ],
   "source": [
    "Crnews1.columns = ['news','date']\n",
    "# Convert the 'date' column to datetime objects\n",
    "Crnews1['date'] = pd.to_datetime(Crnews1['date'], format='%Y-%m-%d %H:%M:%S')\n",
    "\n",
    "# Now, you can use .dt.strftime() on the 'date' column\n",
    "Crnews1['date'] = Crnews1['date'].dt.strftime('%Y-%m-%d')\n",
    "Crnews1['date'] = pd.to_datetime(Crnews1['date'])\n",
    "\n",
    "Crnews1"
   ]
  },
  {
   "cell_type": "code",
   "execution_count": 32,
   "id": "c36ce917",
   "metadata": {},
   "outputs": [],
   "source": [
    "# Merge the DataFrames \n",
    "merged_df = pd.concat([processed_kaggle, Crnews1], ignore_index=True)"
   ]
  },
  {
   "cell_type": "code",
   "execution_count": 34,
   "id": "039db40f",
   "metadata": {},
   "outputs": [],
   "source": [
    "merged_df.to_csv('preprocessed_crypto_data.csv', index=False)"
   ]
  },
  {
   "cell_type": "code",
   "execution_count": null,
   "id": "1d678c2a",
   "metadata": {},
   "outputs": [],
   "source": []
  }
 ],
 "metadata": {
  "kernelspec": {
   "display_name": "Python 3 (ipykernel)",
   "language": "python",
   "name": "python3"
  },
  "language_info": {
   "codemirror_mode": {
    "name": "ipython",
    "version": 3
   },
   "file_extension": ".py",
   "mimetype": "text/x-python",
   "name": "python",
   "nbconvert_exporter": "python",
   "pygments_lexer": "ipython3",
   "version": "3.11.3"
  }
 },
 "nbformat": 4,
 "nbformat_minor": 5
}
