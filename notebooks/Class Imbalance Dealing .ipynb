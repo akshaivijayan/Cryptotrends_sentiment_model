{
 "cells": [
  {
   "cell_type": "code",
   "execution_count": 24,
   "id": "2ed0ae26-d81c-417e-8a79-f05564057582",
   "metadata": {},
   "outputs": [],
   "source": [
    "import pandas as pd\n",
    "from matplotlib import pyplot as plt\n",
    "import numpy as np\n",
    "import pandas as pd\n",
    "from sklearn.feature_extraction.text import TfidfVectorizer\n",
    "from sklearn.neighbors import KNeighborsClassifier\n",
    "from sklearn.pipeline import Pipeline\n",
    "import seaborn as sns\n",
    "from sklearn.metrics import classification_report\n",
    "from sklearn.model_selection import train_test_split\n",
    "from imblearn.over_sampling import SMOTE\n",
    "%matplotlib inline\n",
    "import warnings\n",
    "from collections import Counter\n",
    "from imblearn.over_sampling import ADASYN\n",
    "warnings.filterwarnings('ignore')"
   ]
  },
  {
   "cell_type": "code",
   "execution_count": 2,
   "id": "338a2428-cf93-49f6-b497-83ca926028b7",
   "metadata": {},
   "outputs": [
    {
     "data": {
      "text/html": [
       "<div>\n",
       "<style scoped>\n",
       "    .dataframe tbody tr th:only-of-type {\n",
       "        vertical-align: middle;\n",
       "    }\n",
       "\n",
       "    .dataframe tbody tr th {\n",
       "        vertical-align: top;\n",
       "    }\n",
       "\n",
       "    .dataframe thead th {\n",
       "        text-align: right;\n",
       "    }\n",
       "</style>\n",
       "<table border=\"1\" class=\"dataframe\">\n",
       "  <thead>\n",
       "    <tr style=\"text-align: right;\">\n",
       "      <th></th>\n",
       "      <th>news</th>\n",
       "      <th>date</th>\n",
       "      <th>Sentiment</th>\n",
       "    </tr>\n",
       "  </thead>\n",
       "  <tbody>\n",
       "    <tr>\n",
       "      <th>1982</th>\n",
       "      <td>coinkite one secure useful online bitcoin wall...</td>\n",
       "      <td>2013-02-04</td>\n",
       "      <td>Bullish</td>\n",
       "    </tr>\n",
       "    <tr>\n",
       "      <th>15751</th>\n",
       "      <td>etherindex llc wilmington delbased corporation...</td>\n",
       "      <td>2017-01-15</td>\n",
       "      <td>Neutral</td>\n",
       "    </tr>\n",
       "    <tr>\n",
       "      <th>11651</th>\n",
       "      <td>key highlightsethereum classic price continued...</td>\n",
       "      <td>2014-07-05</td>\n",
       "      <td>Neutral</td>\n",
       "    </tr>\n",
       "    <tr>\n",
       "      <th>27779</th>\n",
       "      <td>march delaware state legislator drafted bill w...</td>\n",
       "      <td>2014-06-16</td>\n",
       "      <td>Neutral</td>\n",
       "    </tr>\n",
       "    <tr>\n",
       "      <th>32590</th>\n",
       "      <td>gox rising offer usd per bitcoin canaan disapp...</td>\n",
       "      <td>2020-05-22</td>\n",
       "      <td>Neutral</td>\n",
       "    </tr>\n",
       "  </tbody>\n",
       "</table>\n",
       "</div>"
      ],
      "text/plain": [
       "                                                    news        date Sentiment\n",
       "1982   coinkite one secure useful online bitcoin wall...  2013-02-04   Bullish\n",
       "15751  etherindex llc wilmington delbased corporation...  2017-01-15   Neutral\n",
       "11651  key highlightsethereum classic price continued...  2014-07-05   Neutral\n",
       "27779  march delaware state legislator drafted bill w...  2014-06-16   Neutral\n",
       "32590  gox rising offer usd per bitcoin canaan disapp...  2020-05-22   Neutral"
      ]
     },
     "execution_count": 2,
     "metadata": {},
     "output_type": "execute_result"
    }
   ],
   "source": [
    "#load data\n",
    "df = pd.read_csv(\"labelled_crypto_data.csv\")\n",
    "df.sample(5)"
   ]
  },
  {
   "cell_type": "code",
   "execution_count": 3,
   "id": "e60aadee-6895-42fc-b1f2-f2b65703ea9d",
   "metadata": {},
   "outputs": [
    {
     "data": {
      "text/html": [
       "<div>\n",
       "<style scoped>\n",
       "    .dataframe tbody tr th:only-of-type {\n",
       "        vertical-align: middle;\n",
       "    }\n",
       "\n",
       "    .dataframe tbody tr th {\n",
       "        vertical-align: top;\n",
       "    }\n",
       "\n",
       "    .dataframe thead th {\n",
       "        text-align: right;\n",
       "    }\n",
       "</style>\n",
       "<table border=\"1\" class=\"dataframe\">\n",
       "  <thead>\n",
       "    <tr style=\"text-align: right;\">\n",
       "      <th></th>\n",
       "      <th>news</th>\n",
       "      <th>date</th>\n",
       "      <th>Sentiment</th>\n",
       "      <th>label</th>\n",
       "    </tr>\n",
       "  </thead>\n",
       "  <tbody>\n",
       "    <tr>\n",
       "      <th>12005</th>\n",
       "      <td>morgan stanley could latest bank join rank gol...</td>\n",
       "      <td>2014-08-25</td>\n",
       "      <td>Neutral</td>\n",
       "      <td>1</td>\n",
       "    </tr>\n",
       "    <tr>\n",
       "      <th>36844</th>\n",
       "      <td>bitcoin holding ground altcoins rally</td>\n",
       "      <td>2018-09-19</td>\n",
       "      <td>Bullish</td>\n",
       "      <td>0</td>\n",
       "    </tr>\n",
       "    <tr>\n",
       "      <th>7750</th>\n",
       "      <td>earlier morning published presession bitcoin p...</td>\n",
       "      <td>2014-01-07</td>\n",
       "      <td>Neutral</td>\n",
       "      <td>1</td>\n",
       "    </tr>\n",
       "    <tr>\n",
       "      <th>1191</th>\n",
       "      <td>bitcoin price broken key psychological level m...</td>\n",
       "      <td>2017-12-16</td>\n",
       "      <td>Bullish</td>\n",
       "      <td>0</td>\n",
       "    </tr>\n",
       "    <tr>\n",
       "      <th>12708</th>\n",
       "      <td>bitcoin price key highlightsbitcoin price made...</td>\n",
       "      <td>2014-12-09</td>\n",
       "      <td>Neutral</td>\n",
       "      <td>1</td>\n",
       "    </tr>\n",
       "  </tbody>\n",
       "</table>\n",
       "</div>"
      ],
      "text/plain": [
       "                                                    news        date  \\\n",
       "12005  morgan stanley could latest bank join rank gol...  2014-08-25   \n",
       "36844              bitcoin holding ground altcoins rally  2018-09-19   \n",
       "7750   earlier morning published presession bitcoin p...  2014-01-07   \n",
       "1191   bitcoin price broken key psychological level m...  2017-12-16   \n",
       "12708  bitcoin price key highlightsbitcoin price made...  2014-12-09   \n",
       "\n",
       "      Sentiment  label  \n",
       "12005   Neutral      1  \n",
       "36844   Bullish      0  \n",
       "7750    Neutral      1  \n",
       "1191    Bullish      0  \n",
       "12708   Neutral      1  "
      ]
     },
     "execution_count": 3,
     "metadata": {},
     "output_type": "execute_result"
    }
   ],
   "source": [
    "#label encoding\n",
    "df['label'] = df['Sentiment'].map({\n",
    "    'Bullish' : 0, \n",
    "    'Neutral': 1, \n",
    "    'Bearish': 2, \n",
    "})\n",
    "df.sample(5)"
   ]
  },
  {
   "cell_type": "code",
   "execution_count": 4,
   "id": "6d7db887-91c2-4a17-81eb-221ae8989cae",
   "metadata": {},
   "outputs": [
    {
     "data": {
      "image/png": "[encoded data removed]",
      "text/plain": [
       "<Figure size 600x450 with 1 Axes>"
      ]
     },
     "metadata": {},
     "output_type": "display_data"
    }
   ],
   "source": [
    "# Ploting the sentiment bar chart\n",
    "sentiment_counts = df[\"Sentiment\"].value_counts()\n",
    "\n",
    "sentiments = sentiment_counts.index\n",
    "colors = [\"lightgreen\", \"lightgray\", \"lightcoral\"]\n",
    "\n",
    "sns.set(style=\"whitegrid\")\n",
    "\n",
    "plt.figure(figsize=(6, 4.5))\n",
    "ax = sns.barplot(x=sentiments, y=sentiment_counts, palette=colors)\n",
    "plt.title(\"Sentiment Distribution\")\n",
    "plt.xlabel(\"Sentiment\")\n",
    "plt.ylabel(\"Count\")\n",
    "\n",
    "for p, label in zip(ax.patches, sentiment_counts):\n",
    "    ax.annotate(label, (p.get_x() + p.get_width() / 2., p.get_height()), ha='center', va='center', fontsize=12, color='black', xytext=(0, 5), textcoords='offset points')\n",
    "\n",
    "sns.despine()\n",
    "plt.xticks(rotation=45)\n",
    "plt.show()"
   ]
  },
  {
   "cell_type": "code",
   "execution_count": 5,
   "id": "93ecc655-e24c-4c84-b1ea-60208d3cac4d",
   "metadata": {},
   "outputs": [],
   "source": [
    "#splitting the data\n",
    "X_train, X_test, y_train, y_test = train_test_split(\n",
    "    df.news, \n",
    "    df.label, \n",
    "    test_size=0.2, # 20% samples will go to test dataset\n",
    "    random_state=2022,\n",
    "    stratify=df.label\n",
    ")"
   ]
  },
  {
   "cell_type": "code",
   "execution_count": 6,
   "id": "8354a9ca-fcda-48a3-89ea-8c31aebf218e",
   "metadata": {},
   "outputs": [
    {
     "name": "stdout",
     "output_type": "stream",
     "text": [
      "              precision    recall  f1-score   support\n",
      "\n",
      "           0       0.65      0.68      0.66      2917\n",
      "           1       0.77      0.76      0.76      4456\n",
      "           2       0.00      0.00      0.00       130\n",
      "\n",
      "    accuracy                           0.72      7503\n",
      "   macro avg       0.47      0.48      0.48      7503\n",
      "weighted avg       0.71      0.72      0.71      7503\n",
      "\n"
     ]
    }
   ],
   "source": [
    "# creating a pipeline object and printing classification report\n",
    "clf = Pipeline([\n",
    "     ('vectorizer_tfidf',TfidfVectorizer()),    \n",
    "     ('KNN', KNeighborsClassifier(n_neighbors=50))         \n",
    "])\n",
    "\n",
    "clf.fit(X_train, y_train)\n",
    "y_pred = clf.predict(X_test)\n",
    "print(classification_report(y_test, y_pred))"
   ]
  },
  {
   "cell_type": "markdown",
   "id": "a43b37ec-139c-4951-a410-0bd47e35cfaa",
   "metadata": {},
   "source": [
    "# Undersampling"
   ]
  },
  {
   "cell_type": "code",
   "execution_count": 7,
   "id": "b69a014f-a4d7-49de-81a1-b1f3a177c533",
   "metadata": {},
   "outputs": [],
   "source": [
    "# Class count saving\n",
    "count_class_1, count_class_0,count_class_2 = df.label.value_counts()\n",
    "df_class_0 = df[df['label'] == 0]\n",
    "df_class_1 = df[df['label'] == 1]\n",
    "df_class_2 = df[df['label'] == 2]"
   ]
  },
  {
   "cell_type": "code",
   "execution_count": 8,
   "id": "ededcb41-bc69-4429-ac1b-6bd8411ffd43",
   "metadata": {},
   "outputs": [
    {
     "name": "stdout",
     "output_type": "stream",
     "text": [
      "Random under-sampling:\n",
      "0    651\n",
      "1    651\n",
      "2    651\n",
      "Name: label, dtype: int64\n"
     ]
    }
   ],
   "source": [
    "# Undersample 0-class and 1-c\n",
    "df_class_0_under = df_class_0.sample(count_class_2)\n",
    "df_class_1_under = df_class_1.sample(count_class_2)\n",
    "df_test_under = pd.concat([df_class_0_under, df_class_1_under,df_class_2], axis=0)\n",
    "print('Random under-sampling:')\n",
    "print(df_test_under.label.value_counts())"
   ]
  },
  {
   "cell_type": "code",
   "execution_count": 9,
   "id": "2d01ca51-1e8d-4010-9185-5e29294105db",
   "metadata": {},
   "outputs": [
    {
     "data": {
      "image/png": "[encoded data removed]",
      "text/plain": [
       "<Figure size 600x450 with 1 Axes>"
      ]
     },
     "metadata": {},
     "output_type": "display_data"
    }
   ],
   "source": [
    "# Ploting the sentiment bar chart\n",
    "sentiment_counts = df_test_under.Sentiment.value_counts()\n",
    "\n",
    "sentiments = sentiment_counts.index\n",
    "colors = [\"lightgreen\", \"lightgray\", \"lightcoral\"]\n",
    "\n",
    "sns.set(style=\"whitegrid\")\n",
    "\n",
    "plt.figure(figsize=(6, 4.5))\n",
    "ax = sns.barplot(x=sentiments, y=sentiment_counts, palette=colors)\n",
    "plt.title(\"Sentiment Distribution\")\n",
    "plt.xlabel(\"Sentiment\")\n",
    "plt.ylabel(\"Count\")\n",
    "\n",
    "for p, label in zip(ax.patches, sentiment_counts):\n",
    "    ax.annotate(label, (p.get_x() + p.get_width() / 2., p.get_height()), ha='center', va='center', fontsize=12, color='black', xytext=(0, 5), textcoords='offset points')\n",
    "\n",
    "sns.despine()\n",
    "plt.xticks(rotation=45)\n",
    "\n",
    "plt.show()"
   ]
  },
  {
   "cell_type": "code",
   "execution_count": 10,
   "id": "ba096e93-7d29-4514-8990-eea83c95c020",
   "metadata": {},
   "outputs": [],
   "source": [
    "X = df_test_under['news']\n",
    "y = df_test_under['label']\n",
    "X_train, X_test, y_train, y_test = train_test_split(X, y, test_size=0.2, random_state=15, stratify=y)"
   ]
  },
  {
   "cell_type": "code",
   "execution_count": 11,
   "id": "4eb65169-9d34-430f-b7db-d07e16914b24",
   "metadata": {},
   "outputs": [
    {
     "data": {
      "text/plain": [
       "2    521\n",
       "1    521\n",
       "0    520\n",
       "Name: label, dtype: int64"
      ]
     },
     "execution_count": 11,
     "metadata": {},
     "output_type": "execute_result"
    }
   ],
   "source": [
    "# Number of classes in training Data\n",
    "y_train.value_counts()"
   ]
  },
  {
   "cell_type": "code",
   "execution_count": 12,
   "id": "c5e4bd3d-6616-476b-bdc7-163e50005f65",
   "metadata": {},
   "outputs": [
    {
     "name": "stdout",
     "output_type": "stream",
     "text": [
      "              precision    recall  f1-score   support\n",
      "\n",
      "           0       0.53      0.76      0.62       131\n",
      "           1       0.61      0.39      0.48       130\n",
      "           2       0.69      0.64      0.66       130\n",
      "\n",
      "    accuracy                           0.60       391\n",
      "   macro avg       0.61      0.60      0.59       391\n",
      "weighted avg       0.61      0.60      0.59       391\n",
      "\n"
     ]
    }
   ],
   "source": [
    "# creating a pipeline object and printing classification report\n",
    "clf = Pipeline([\n",
    "     ('vectorizer_tfidf',TfidfVectorizer()),    \n",
    "     ('KNN', KNeighborsClassifier(n_neighbors=50))         \n",
    "])\n",
    "\n",
    "clf.fit(X_train, y_train)\n",
    "y_pred = clf.predict(X_test)\n",
    "print(classification_report(y_test, y_pred))"
   ]
  },
  {
   "cell_type": "markdown",
   "id": "4c243771-e50b-4dac-83be-a5c6568b4bf0",
   "metadata": {},
   "source": [
    "# Oversampling"
   ]
  },
  {
   "cell_type": "code",
   "execution_count": 13,
   "id": "422b507a-374f-4790-8991-325dbc1fad7d",
   "metadata": {},
   "outputs": [
    {
     "name": "stdout",
     "output_type": "stream",
     "text": [
      "Random over-sampling:\n",
      "1    22276\n",
      "0    22276\n",
      "2    22276\n",
      "Name: label, dtype: int64\n"
     ]
    }
   ],
   "source": [
    "# Oversample 0-class,2-class \n",
    "df_class_0_over = df_class_0.sample(count_class_1, replace=True)\n",
    "df_class_2_over = df_class_2.sample(count_class_1, replace=True)\n",
    "\n",
    "df_test_over = pd.concat([df_class_1, df_class_0_over,df_class_2_over], axis=0)\n",
    "\n",
    "print('Random over-sampling:')\n",
    "print(df_test_over.label.value_counts())"
   ]
  },
  {
   "cell_type": "code",
   "execution_count": 14,
   "id": "c3b555af-1238-40a6-9e02-2bf9401c9251",
   "metadata": {},
   "outputs": [
    {
     "data": {
      "image/png": "[encoded data removed]",
      "text/plain": [
       "<Figure size 600x450 with 1 Axes>"
      ]
     },
     "metadata": {},
     "output_type": "display_data"
    }
   ],
   "source": [
    "# Ploting the sentiment bar chart\n",
    "sentiment_counts = df_test_over.Sentiment.value_counts()\n",
    "\n",
    "sentiments = sentiment_counts.index\n",
    "colors = [\"lightgreen\", \"lightgray\", \"lightcoral\"]\n",
    "\n",
    "sns.set(style=\"whitegrid\")\n",
    "\n",
    "plt.figure(figsize=(6, 4.5))\n",
    "ax = sns.barplot(x=sentiments, y=sentiment_counts, palette=colors)\n",
    "plt.title(\"Sentiment Distribution\")\n",
    "plt.xlabel(\"Sentiment\")\n",
    "plt.ylabel(\"Count\")\n",
    "\n",
    "for p, label in zip(ax.patches, sentiment_counts):\n",
    "    ax.annotate(label, (p.get_x() + p.get_width() / 2., p.get_height()), ha='center', va='center', fontsize=12, color='black', xytext=(0, 5), textcoords='offset points')\n",
    "\n",
    "sns.despine()\n",
    "plt.xticks(rotation=45)\n",
    "\n",
    "plt.show()"
   ]
  },
  {
   "cell_type": "code",
   "execution_count": 15,
   "id": "5ddd057d-2802-49e5-ab9a-638019ba1a34",
   "metadata": {},
   "outputs": [],
   "source": [
    "# Train test split\n",
    "X = df_test_over['news']\n",
    "y = df_test_over['label']\n",
    "\n",
    "X_train, X_test, y_train, y_test = train_test_split(X, y, test_size=0.2, random_state=15, stratify=y)"
   ]
  },
  {
   "cell_type": "code",
   "execution_count": 16,
   "id": "a5b54bf2-a11f-4c1d-a6fa-3ebcd316791f",
   "metadata": {
    "scrolled": true
   },
   "outputs": [
    {
     "name": "stdout",
     "output_type": "stream",
     "text": [
      "              precision    recall  f1-score   support\n",
      "\n",
      "           0       0.70      0.68      0.69      4456\n",
      "           1       0.76      0.46      0.57      4455\n",
      "           2       0.69      0.98      0.81      4455\n",
      "\n",
      "    accuracy                           0.70     13366\n",
      "   macro avg       0.71      0.70      0.69     13366\n",
      "weighted avg       0.71      0.70      0.69     13366\n",
      "\n"
     ]
    }
   ],
   "source": [
    "# creating a pipeline object and printing classification report\n",
    "clf = Pipeline([\n",
    "     ('vectorizer_tfidf',TfidfVectorizer()),    \n",
    "     ('KNN', KNeighborsClassifier(n_neighbors=50))         \n",
    "])\n",
    "\n",
    "clf.fit(X_train, y_train)\n",
    "y_pred = clf.predict(X_test)\n",
    "print(classification_report(y_test, y_pred))"
   ]
  },
  {
   "cell_type": "markdown",
   "id": "49e43176-29c6-4fc4-aa87-ad2b86f8452f",
   "metadata": {},
   "source": [
    "# ADASYN"
   ]
  },
  {
   "cell_type": "code",
   "execution_count": 17,
   "id": "05f0fd3d-b86b-4b7f-a723-8bf76a04b303",
   "metadata": {},
   "outputs": [],
   "source": [
    "import spacy\n",
    "nlp = spacy.load(\"en_core_web_lg\")"
   ]
  },
  {
   "cell_type": "code",
   "execution_count": 18,
   "id": "da3f1967-a7ce-42f7-a380-9772212dfe72",
   "metadata": {},
   "outputs": [
    {
     "data": {
      "text/html": [
       "<div>\n",
       "<style scoped>\n",
       "    .dataframe tbody tr th:only-of-type {\n",
       "        vertical-align: middle;\n",
       "    }\n",
       "\n",
       "    .dataframe tbody tr th {\n",
       "        vertical-align: top;\n",
       "    }\n",
       "\n",
       "    .dataframe thead th {\n",
       "        text-align: right;\n",
       "    }\n",
       "</style>\n",
       "<table border=\"1\" class=\"dataframe\">\n",
       "  <thead>\n",
       "    <tr style=\"text-align: right;\">\n",
       "      <th></th>\n",
       "      <th>news</th>\n",
       "      <th>date</th>\n",
       "      <th>Sentiment</th>\n",
       "      <th>label</th>\n",
       "    </tr>\n",
       "  </thead>\n",
       "  <tbody>\n",
       "    <tr>\n",
       "      <th>0</th>\n",
       "      <td>bitcoin priced usd mt goxabove gox price pm gm...</td>\n",
       "      <td>2017-08-15</td>\n",
       "      <td>Neutral</td>\n",
       "      <td>1</td>\n",
       "    </tr>\n",
       "    <tr>\n",
       "      <th>1</th>\n",
       "      <td>bitcoin price fib level dmas ok last week like...</td>\n",
       "      <td>2017-05-12</td>\n",
       "      <td>Bullish</td>\n",
       "      <td>0</td>\n",
       "    </tr>\n",
       "    <tr>\n",
       "      <th>2</th>\n",
       "      <td>national australia bank loom melbourne citizen...</td>\n",
       "      <td>2017-09-19</td>\n",
       "      <td>Neutral</td>\n",
       "      <td>1</td>\n",
       "    </tr>\n",
       "    <tr>\n",
       "      <th>3</th>\n",
       "      <td>recent report china indicate may bitcoin ban m...</td>\n",
       "      <td>2014-10-03</td>\n",
       "      <td>Bullish</td>\n",
       "      <td>0</td>\n",
       "    </tr>\n",
       "    <tr>\n",
       "      <th>4</th>\n",
       "      <td>opened st bitcoin trade position price current...</td>\n",
       "      <td>2016-01-15</td>\n",
       "      <td>Neutral</td>\n",
       "      <td>1</td>\n",
       "    </tr>\n",
       "  </tbody>\n",
       "</table>\n",
       "</div>"
      ],
      "text/plain": [
       "                                                news        date Sentiment  \\\n",
       "0  bitcoin priced usd mt goxabove gox price pm gm...  2017-08-15   Neutral   \n",
       "1  bitcoin price fib level dmas ok last week like...  2017-05-12   Bullish   \n",
       "2  national australia bank loom melbourne citizen...  2017-09-19   Neutral   \n",
       "3  recent report china indicate may bitcoin ban m...  2014-10-03   Bullish   \n",
       "4  opened st bitcoin trade position price current...  2016-01-15   Neutral   \n",
       "\n",
       "   label  \n",
       "0      1  \n",
       "1      0  \n",
       "2      1  \n",
       "3      0  \n",
       "4      1  "
      ]
     },
     "execution_count": 18,
     "metadata": {},
     "output_type": "execute_result"
    }
   ],
   "source": [
    "df.head()"
   ]
  },
  {
   "cell_type": "code",
   "execution_count": 19,
   "id": "4b555587-7b6d-480a-8a85-9d17da2b5e36",
   "metadata": {},
   "outputs": [],
   "source": [
    "X = df['news']\n",
    "y = df['label']"
   ]
  },
  {
   "cell_type": "code",
   "execution_count": 20,
   "id": "04ad46b4-34ca-489a-8613-778c37c50495",
   "metadata": {},
   "outputs": [
    {
     "name": "stdout",
     "output_type": "stream",
     "text": [
      "Class distribution before oversampling: Counter({1: 22276, 0: 14586, 2: 651})\n",
      "Class distribution after oversampling: Counter({0: 22610, 2: 22319, 1: 22276})\n"
     ]
    }
   ],
   "source": [
    "# Check the class distribution before oversampling\n",
    "print(\"Class distribution before oversampling:\", Counter(df['label']))\n",
    "\n",
    "adasyn = ADASYN( n_neighbors=2, random_state=42)\n",
    "\n",
    "tfidf_vectorizer = TfidfVectorizer()\n",
    "tfidf_features = tfidf_vectorizer.fit_transform(X)\n",
    "X_resampled, y_resampled = adasyn.fit_resample(tfidf_features, y)\n",
    "\n",
    "# Check the class distribution after oversampling\n",
    "print(\"Class distribution after oversampling:\", Counter(y_resampled))\n"
   ]
  },
  {
   "cell_type": "code",
   "execution_count": 21,
   "id": "ab497505-32f7-4f03-956d-61bd0f1be1c9",
   "metadata": {},
   "outputs": [],
   "source": [
    "#train_test_split\n",
    "X_train, X_test, y_train, y_test = train_test_split(X_resampled, y_resampled, test_size=0.2, random_state=15, stratify=y_resampled)"
   ]
  },
  {
   "cell_type": "code",
   "execution_count": 22,
   "id": "2b7d5e03-f4d5-49b0-a2f5-cf95e800ec2c",
   "metadata": {},
   "outputs": [
    {
     "name": "stdout",
     "output_type": "stream",
     "text": [
      "              precision    recall  f1-score   support\n",
      "\n",
      "           0       0.65      0.43      0.51      4522\n",
      "           1       0.89      0.18      0.30      4455\n",
      "           2       0.47      1.00      0.64      4464\n",
      "\n",
      "    accuracy                           0.53     13441\n",
      "   macro avg       0.67      0.53      0.48     13441\n",
      "weighted avg       0.67      0.53      0.48     13441\n",
      "\n"
     ]
    }
   ],
   "source": [
    "# KNN classifier training and classification report\n",
    "knn_classifier = KNeighborsClassifier(n_neighbors=50)  \n",
    "\n",
    "knn_classifier.fit(X_train, y_train)\n",
    "y_pred = knn_classifier.predict(X_test)\n",
    "\n",
    "classification_rep = classification_report(y_test, y_pred)\n",
    "\n",
    "# Print the classification report\n",
    "print(classification_rep)"
   ]
  },
  {
   "cell_type": "markdown",
   "id": "f17d1a26-e9cd-4043-ad59-5c4f1fc99de3",
   "metadata": {},
   "source": [
    "# SMOTE"
   ]
  },
  {
   "cell_type": "code",
   "execution_count": 25,
   "id": "136ede11-0995-4411-a9f3-0a254165ba2a",
   "metadata": {},
   "outputs": [
    {
     "name": "stdout",
     "output_type": "stream",
     "text": [
      "Class distribution before oversampling: Counter({1: 22276, 0: 14586, 2: 651})\n",
      "Class distribution after oversampling: Counter({1: 22276, 0: 22276, 2: 22276})\n"
     ]
    }
   ],
   "source": [
    "# Check the class distribution before oversampling\n",
    "print(\"Class distribution before oversampling:\", Counter(df['label']))\n",
    "\n",
    "X = df['news']\n",
    "y = df['label']\n",
    "\n",
    "tfidf_vectorizer = TfidfVectorizer()\n",
    "tfidf_features = tfidf_vectorizer.fit_transform(X)\n",
    "\n",
    "smote = SMOTE(random_state=42)\n",
    "X_resampled, y_resampled = smote.fit_resample(tfidf_features, y)\n",
    "\n",
    "# Check the class distribution after oversampling\n",
    "print(\"Class distribution after oversampling:\", Counter(y_resampled))\n"
   ]
  },
  {
   "cell_type": "code",
   "execution_count": 26,
   "id": "1af4ddca-5cc8-4638-9658-fa7e83aa5f63",
   "metadata": {},
   "outputs": [
    {
     "name": "stdout",
     "output_type": "stream",
     "text": [
      "              precision    recall  f1-score   support\n",
      "\n",
      "           0       0.70      0.52      0.60      4456\n",
      "           1       0.88      0.19      0.31      4455\n",
      "           2       0.49      1.00      0.66      4455\n",
      "\n",
      "    accuracy                           0.57     13366\n",
      "   macro avg       0.69      0.57      0.52     13366\n",
      "weighted avg       0.69      0.57      0.52     13366\n",
      "\n"
     ]
    }
   ],
   "source": [
    "from sklearn.tree import DecisionTreeClassifier\n",
    "X_train, X_test, y_train, y_test = train_test_split(X_resampled, y_resampled, test_size=0.2, random_state=15, stratify=y_resampled)\n",
    "# Create a KNN classifier\n",
    "knn_classifier = KNeighborsClassifier(n_neighbors=50)\n",
    "\n",
    "# Fit the classifier on the training data\n",
    "knn_classifier.fit(X_train, y_train)\n",
    "\n",
    "# Make predictions on the test data\n",
    "y_pred = knn_classifier.predict(X_test)\n",
    "\n",
    "# Generate a classification report\n",
    "classification_rep = classification_report(y_test, y_pred)\n",
    "\n",
    "# Print the classification report\n",
    "print(classification_rep)"
   ]
  },
  {
   "cell_type": "markdown",
   "id": "df6610ed-c13a-4556-b318-84443461a227",
   "metadata": {},
   "source": [
    "# So we fix SMOTE to deal with class imbalance"
   ]
  },
  {
   "cell_type": "code",
   "execution_count": null,
   "id": "56261d25-b455-4520-b614-1a7fc912ff9a",
   "metadata": {},
   "outputs": [],
   "source": []
  }
 ],
 "metadata": {
  "kernelspec": {
   "display_name": "Python 3 (ipykernel)",
   "language": "python",
   "name": "python3"
  },
  "language_info": {
   "codemirror_mode": {
    "name": "ipython",
    "version": 3
   },
   "file_extension": ".py",
   "mimetype": "text/x-python",
   "name": "python",
   "nbconvert_exporter": "python",
   "pygments_lexer": "ipython3",
   "version": "3.11.5"
  }
 },
 "nbformat": 4,
 "nbformat_minor": 5
}
