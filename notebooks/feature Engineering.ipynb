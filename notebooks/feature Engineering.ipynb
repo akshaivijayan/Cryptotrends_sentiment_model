{
 "cells": [
  {
   "cell_type": "markdown",
   "id": "3543f6e5",
   "metadata": {},
   "source": [
    "# Feature Engineering"
   ]
  },
  {
   "cell_type": "code",
   "execution_count": 2,
   "id": "fe0dd771",
   "metadata": {},
   "outputs": [],
   "source": [
    "import pandas as pd\n",
    "from sklearn.feature_extraction.text import TfidfVectorizer\n",
    "from sklearn.ensemble import RandomForestClassifier\n",
    "from sklearn.pipeline import Pipeline\n",
    "from sklearn.metrics import classification_report\n",
    "from sklearn.model_selection import train_test_split\n",
    "from sklearn.linear_model import LogisticRegression\n",
    "from sklearn.utils.class_weight import compute_class_weight\n",
    "from sklearn.naive_bayes import MultinomialNB\n",
    "from sklearn.preprocessing import MinMaxScaler\n",
    "from imblearn.over_sampling import SMOTE\n",
    "import spacy\n",
    "import lightgbm as lgb\n",
    "import numpy as np\n",
    "from collections import Counter"
   ]
  },
  {
   "cell_type": "code",
   "execution_count": 3,
   "id": "b670b8bf",
   "metadata": {},
   "outputs": [
    {
     "data": {
      "text/html": [
       "<div>\n",
       "<style scoped>\n",
       "    .dataframe tbody tr th:only-of-type {\n",
       "        vertical-align: middle;\n",
       "    }\n",
       "\n",
       "    .dataframe tbody tr th {\n",
       "        vertical-align: top;\n",
       "    }\n",
       "\n",
       "    .dataframe thead th {\n",
       "        text-align: right;\n",
       "    }\n",
       "</style>\n",
       "<table border=\"1\" class=\"dataframe\">\n",
       "  <thead>\n",
       "    <tr style=\"text-align: right;\">\n",
       "      <th></th>\n",
       "      <th>news</th>\n",
       "      <th>date</th>\n",
       "      <th>Sentiment</th>\n",
       "    </tr>\n",
       "  </thead>\n",
       "  <tbody>\n",
       "    <tr>\n",
       "      <th>0</th>\n",
       "      <td>bitcoin priced usd mt goxabove gox price pm gm...</td>\n",
       "      <td>2017-08-15</td>\n",
       "      <td>Neutral</td>\n",
       "    </tr>\n",
       "    <tr>\n",
       "      <th>1</th>\n",
       "      <td>bitcoin price fib level dmas ok last week like...</td>\n",
       "      <td>2017-05-12</td>\n",
       "      <td>Bullish</td>\n",
       "    </tr>\n",
       "    <tr>\n",
       "      <th>2</th>\n",
       "      <td>national australia bank loom melbourne citizen...</td>\n",
       "      <td>2017-09-19</td>\n",
       "      <td>Neutral</td>\n",
       "    </tr>\n",
       "    <tr>\n",
       "      <th>3</th>\n",
       "      <td>recent report china indicate may bitcoin ban m...</td>\n",
       "      <td>2014-10-03</td>\n",
       "      <td>Bullish</td>\n",
       "    </tr>\n",
       "    <tr>\n",
       "      <th>4</th>\n",
       "      <td>opened st bitcoin trade position price current...</td>\n",
       "      <td>2016-01-15</td>\n",
       "      <td>Neutral</td>\n",
       "    </tr>\n",
       "  </tbody>\n",
       "</table>\n",
       "</div>"
      ],
      "text/plain": [
       "                                                news        date Sentiment\n",
       "0  bitcoin priced usd mt goxabove gox price pm gm...  2017-08-15   Neutral\n",
       "1  bitcoin price fib level dmas ok last week like...  2017-05-12   Bullish\n",
       "2  national australia bank loom melbourne citizen...  2017-09-19   Neutral\n",
       "3  recent report china indicate may bitcoin ban m...  2014-10-03   Bullish\n",
       "4  opened st bitcoin trade position price current...  2016-01-15   Neutral"
      ]
     },
     "execution_count": 3,
     "metadata": {},
     "output_type": "execute_result"
    }
   ],
   "source": [
    "df = pd.read_csv(\"labelled_crypto_data.csv\")\n",
    "df.head()"
   ]
  },
  {
   "cell_type": "code",
   "execution_count": 4,
   "id": "42508681",
   "metadata": {},
   "outputs": [
    {
     "name": "stdout",
     "output_type": "stream",
     "text": [
      "news         0\n",
      "date         0\n",
      "Sentiment    0\n",
      "dtype: int64\n"
     ]
    }
   ],
   "source": [
    "missing_values = df.isnull().sum()\n",
    "\n",
    "# Display missing values count for each column\n",
    "print(missing_values)"
   ]
  },
  {
   "cell_type": "code",
   "execution_count": 5,
   "id": "1adce7e1",
   "metadata": {},
   "outputs": [
    {
     "data": {
      "text/html": [
       "<div>\n",
       "<style scoped>\n",
       "    .dataframe tbody tr th:only-of-type {\n",
       "        vertical-align: middle;\n",
       "    }\n",
       "\n",
       "    .dataframe tbody tr th {\n",
       "        vertical-align: top;\n",
       "    }\n",
       "\n",
       "    .dataframe thead th {\n",
       "        text-align: right;\n",
       "    }\n",
       "</style>\n",
       "<table border=\"1\" class=\"dataframe\">\n",
       "  <thead>\n",
       "    <tr style=\"text-align: right;\">\n",
       "      <th></th>\n",
       "      <th>news</th>\n",
       "      <th>date</th>\n",
       "      <th>Sentiment</th>\n",
       "      <th>label</th>\n",
       "    </tr>\n",
       "  </thead>\n",
       "  <tbody>\n",
       "    <tr>\n",
       "      <th>0</th>\n",
       "      <td>bitcoin priced usd mt goxabove gox price pm gm...</td>\n",
       "      <td>2017-08-15</td>\n",
       "      <td>Neutral</td>\n",
       "      <td>1</td>\n",
       "    </tr>\n",
       "    <tr>\n",
       "      <th>1</th>\n",
       "      <td>bitcoin price fib level dmas ok last week like...</td>\n",
       "      <td>2017-05-12</td>\n",
       "      <td>Bullish</td>\n",
       "      <td>0</td>\n",
       "    </tr>\n",
       "    <tr>\n",
       "      <th>2</th>\n",
       "      <td>national australia bank loom melbourne citizen...</td>\n",
       "      <td>2017-09-19</td>\n",
       "      <td>Neutral</td>\n",
       "      <td>1</td>\n",
       "    </tr>\n",
       "    <tr>\n",
       "      <th>3</th>\n",
       "      <td>recent report china indicate may bitcoin ban m...</td>\n",
       "      <td>2014-10-03</td>\n",
       "      <td>Bullish</td>\n",
       "      <td>0</td>\n",
       "    </tr>\n",
       "    <tr>\n",
       "      <th>4</th>\n",
       "      <td>opened st bitcoin trade position price current...</td>\n",
       "      <td>2016-01-15</td>\n",
       "      <td>Neutral</td>\n",
       "      <td>1</td>\n",
       "    </tr>\n",
       "  </tbody>\n",
       "</table>\n",
       "</div>"
      ],
      "text/plain": [
       "                                                news        date Sentiment  \\\n",
       "0  bitcoin priced usd mt goxabove gox price pm gm...  2017-08-15   Neutral   \n",
       "1  bitcoin price fib level dmas ok last week like...  2017-05-12   Bullish   \n",
       "2  national australia bank loom melbourne citizen...  2017-09-19   Neutral   \n",
       "3  recent report china indicate may bitcoin ban m...  2014-10-03   Bullish   \n",
       "4  opened st bitcoin trade position price current...  2016-01-15   Neutral   \n",
       "\n",
       "   label  \n",
       "0      1  \n",
       "1      0  \n",
       "2      1  \n",
       "3      0  \n",
       "4      1  "
      ]
     },
     "execution_count": 5,
     "metadata": {},
     "output_type": "execute_result"
    }
   ],
   "source": [
    "df['label'] = df['Sentiment'].map({\n",
    "    'Bullish' : 0, \n",
    "    'Neutral': 1, \n",
    "    'Bearish': 2, \n",
    "})\n",
    "\n",
    "#checking the results \n",
    "df.head(5)"
   ]
  },
  {
   "cell_type": "code",
   "execution_count": 6,
   "id": "f07fc088",
   "metadata": {},
   "outputs": [
    {
     "data": {
      "text/plain": [
       "1    22276\n",
       "0    14586\n",
       "2      651\n",
       "Name: label, dtype: int64"
      ]
     },
     "execution_count": 6,
     "metadata": {},
     "output_type": "execute_result"
    }
   ],
   "source": [
    "#check the distribution of labels \n",
    "df['label'].value_counts()"
   ]
  },
  {
   "cell_type": "markdown",
   "id": "d65b4c97",
   "metadata": {},
   "source": [
    "# TF-IDF Vectorisation"
   ]
  },
  {
   "cell_type": "code",
   "execution_count": 7,
   "id": "ef225f26",
   "metadata": {},
   "outputs": [
    {
     "name": "stdout",
     "output_type": "stream",
     "text": [
      "Class distribution before oversampling: Counter({1: 22276, 0: 14586, 2: 651})\n",
      "Class distribution after oversampling: Counter({1: 22276, 0: 22276, 2: 22276})\n"
     ]
    }
   ],
   "source": [
    "# Check the class distribution before oversampling\n",
    "print(\"Class distribution before oversampling:\", Counter(df['label']))\n",
    "\n",
    "X = df['news']\n",
    "y = df['label']\n",
    "\n",
    "tfidf_vectorizer = TfidfVectorizer()\n",
    "tfidf_features = tfidf_vectorizer.fit_transform(X)\n",
    "\n",
    "smote = SMOTE(random_state=42)\n",
    "X_resampled, y_resampled = smote.fit_resample(tfidf_features, y)\n",
    "\n",
    "# Check the class distribution after oversampling\n",
    "print(\"Class distribution after oversampling:\", Counter(y_resampled))"
   ]
  },
  {
   "cell_type": "code",
   "execution_count": 8,
   "id": "1ea14967-4dc5-4648-bda7-1dfd876327dc",
   "metadata": {},
   "outputs": [],
   "source": [
    "# Train_Test Split\n",
    "X_train, X_test, y_train, y_test = train_test_split(\n",
    "    X_resampled,\n",
    "    y_resampled, \n",
    "    test_size=0.2, # 20% samples will go to test dataset\n",
    "    random_state=2022,\n",
    "    stratify=y_resampled\n",
    ")"
   ]
  },
  {
   "cell_type": "code",
   "execution_count": 9,
   "id": "5b3f2958-3a5a-4c9e-a621-0b843fc8047e",
   "metadata": {},
   "outputs": [
    {
     "name": "stdout",
     "output_type": "stream",
     "text": [
      "              precision    recall  f1-score   support\n",
      "\n",
      "           0       0.74      0.90      0.81      4455\n",
      "           1       0.87      0.68      0.77      4456\n",
      "           2       1.00      1.00      1.00      4455\n",
      "\n",
      "    accuracy                           0.86     13366\n",
      "   macro avg       0.87      0.86      0.86     13366\n",
      "weighted avg       0.87      0.86      0.86     13366\n",
      "\n"
     ]
    }
   ],
   "source": [
    "# Create a random forest model and printing classification report\n",
    "random_forest = RandomForestClassifier()\n",
    "\n",
    "random_forest.fit(X_train, y_train)\n",
    "y_pred = random_forest.predict(X_test)\n",
    "\n",
    "classification_rep = classification_report(y_test, y_pred)\n",
    "print(classification_rep)"
   ]
  },
  {
   "cell_type": "markdown",
   "id": "91cc98b8-956d-4521-bc67-03f88607c4cc",
   "metadata": {},
   "source": [
    "# Spacy Word2vec"
   ]
  },
  {
   "cell_type": "code",
   "execution_count": 6,
   "id": "2cb8b0ed",
   "metadata": {},
   "outputs": [],
   "source": [
    "nlp = spacy.load(\"en_core_web_lg\")"
   ]
  },
  {
   "cell_type": "code",
   "execution_count": 7,
   "id": "7b58b46d",
   "metadata": {},
   "outputs": [],
   "source": [
    "df['vector'] = df['news'].apply(lambda text: nlp(text).vector)  "
   ]
  },
  {
   "cell_type": "code",
   "execution_count": 8,
   "id": "4e5629df-d6dc-4a50-9977-9fea4dc4e528",
   "metadata": {},
   "outputs": [],
   "source": [
    "X = np.stack(df['vector'])\n",
    "y = df['label']"
   ]
  },
  {
   "cell_type": "code",
   "execution_count": 9,
   "id": "8e80b039",
   "metadata": {},
   "outputs": [
    {
     "data": {
      "text/html": [
       "<div>\n",
       "<style scoped>\n",
       "    .dataframe tbody tr th:only-of-type {\n",
       "        vertical-align: middle;\n",
       "    }\n",
       "\n",
       "    .dataframe tbody tr th {\n",
       "        vertical-align: top;\n",
       "    }\n",
       "\n",
       "    .dataframe thead th {\n",
       "        text-align: right;\n",
       "    }\n",
       "</style>\n",
       "<table border=\"1\" class=\"dataframe\">\n",
       "  <thead>\n",
       "    <tr style=\"text-align: right;\">\n",
       "      <th></th>\n",
       "      <th>news</th>\n",
       "      <th>date</th>\n",
       "      <th>Sentiment</th>\n",
       "      <th>label</th>\n",
       "      <th>vector</th>\n",
       "    </tr>\n",
       "  </thead>\n",
       "  <tbody>\n",
       "    <tr>\n",
       "      <th>0</th>\n",
       "      <td>bitcoin priced usd mt goxabove gox price pm gm...</td>\n",
       "      <td>2017-08-15</td>\n",
       "      <td>Neutral</td>\n",
       "      <td>1</td>\n",
       "      <td>[0.16266258, 0.648594, -1.0985134, 0.7211839, ...</td>\n",
       "    </tr>\n",
       "    <tr>\n",
       "      <th>1</th>\n",
       "      <td>bitcoin price fib level dmas ok last week like...</td>\n",
       "      <td>2017-05-12</td>\n",
       "      <td>Bullish</td>\n",
       "      <td>0</td>\n",
       "      <td>[0.06778961, 1.2555737, -1.7561576, 0.39234045...</td>\n",
       "    </tr>\n",
       "    <tr>\n",
       "      <th>2</th>\n",
       "      <td>national australia bank loom melbourne citizen...</td>\n",
       "      <td>2017-09-19</td>\n",
       "      <td>Neutral</td>\n",
       "      <td>1</td>\n",
       "      <td>[-0.6519221, 0.14509854, -1.2072718, 0.0738156...</td>\n",
       "    </tr>\n",
       "    <tr>\n",
       "      <th>3</th>\n",
       "      <td>recent report china indicate may bitcoin ban m...</td>\n",
       "      <td>2014-10-03</td>\n",
       "      <td>Bullish</td>\n",
       "      <td>0</td>\n",
       "      <td>[-0.23611419, 0.38005897, -1.9225764, 0.769365...</td>\n",
       "    </tr>\n",
       "    <tr>\n",
       "      <th>4</th>\n",
       "      <td>opened st bitcoin trade position price current...</td>\n",
       "      <td>2016-01-15</td>\n",
       "      <td>Neutral</td>\n",
       "      <td>1</td>\n",
       "      <td>[-0.15200873, 0.6458844, -1.0060012, 0.5816615...</td>\n",
       "    </tr>\n",
       "  </tbody>\n",
       "</table>\n",
       "</div>"
      ],
      "text/plain": [
       "                                                news        date Sentiment  \\\n",
       "0  bitcoin priced usd mt goxabove gox price pm gm...  2017-08-15   Neutral   \n",
       "1  bitcoin price fib level dmas ok last week like...  2017-05-12   Bullish   \n",
       "2  national australia bank loom melbourne citizen...  2017-09-19   Neutral   \n",
       "3  recent report china indicate may bitcoin ban m...  2014-10-03   Bullish   \n",
       "4  opened st bitcoin trade position price current...  2016-01-15   Neutral   \n",
       "\n",
       "   label                                             vector  \n",
       "0      1  [0.16266258, 0.648594, -1.0985134, 0.7211839, ...  \n",
       "1      0  [0.06778961, 1.2555737, -1.7561576, 0.39234045...  \n",
       "2      1  [-0.6519221, 0.14509854, -1.2072718, 0.0738156...  \n",
       "3      0  [-0.23611419, 0.38005897, -1.9225764, 0.769365...  \n",
       "4      1  [-0.15200873, 0.6458844, -1.0060012, 0.5816615...  "
      ]
     },
     "execution_count": 9,
     "metadata": {},
     "output_type": "execute_result"
    }
   ],
   "source": [
    "df.head()"
   ]
  },
  {
   "cell_type": "code",
   "execution_count": 14,
   "id": "530ec234-3123-49af-bed1-e1585ab91406",
   "metadata": {},
   "outputs": [
    {
     "name": "stdout",
     "output_type": "stream",
     "text": [
      "Class distribution before oversampling: Counter({1: 22276, 0: 14586, 2: 651})\n",
      "Class distribution after oversampling: Counter({1: 22276, 0: 22276, 2: 22276})\n"
     ]
    }
   ],
   "source": [
    "# Check the class distribution before oversampling\n",
    "print(\"Class distribution before oversampling:\", Counter(y))\n",
    "\n",
    "smote = SMOTE(random_state=42)\n",
    "X_resampled, y_resampled = smote.fit_resample(X, y)\n",
    "\n",
    "# Check the class distribution after oversampling\n",
    "print(\"Class distribution after oversampling:\", Counter(y_resampled))"
   ]
  },
  {
   "cell_type": "code",
   "execution_count": 15,
   "id": "650cadd1",
   "metadata": {},
   "outputs": [],
   "source": [
    "X_train, X_test, y_train, y_test = train_test_split(\n",
    "    X_resampled,\n",
    "    y_resampled,\n",
    "    test_size=0.2,\n",
    "    random_state=2022\n",
    ")"
   ]
  },
  {
   "cell_type": "code",
   "execution_count": 16,
   "id": "28ccf631",
   "metadata": {},
   "outputs": [
    {
     "data": {
      "text/html": [
       "<style>#sk-container-id-2 {color: black;background-color: white;}#sk-container-id-2 pre{padding: 0;}#sk-container-id-2 div.sk-toggleable {background-color: white;}#sk-container-id-2 label.sk-toggleable__label {cursor: pointer;display: block;width: 100%;margin-bottom: 0;padding: 0.3em;box-sizing: border-box;text-align: center;}#sk-container-id-2 label.sk-toggleable__label-arrow:before {content: \"▸\";float: left;margin-right: 0.25em;color: #696969;}#sk-container-id-2 label.sk-toggleable__label-arrow:hover:before {color: black;}#sk-container-id-2 div.sk-estimator:hover label.sk-toggleable__label-arrow:before {color: black;}#sk-container-id-2 div.sk-toggleable__content {max-height: 0;max-width: 0;overflow: hidden;text-align: left;background-color: #f0f8ff;}#sk-container-id-2 div.sk-toggleable__content pre {margin: 0.2em;color: black;border-radius: 0.25em;background-color: #f0f8ff;}#sk-container-id-2 input.sk-toggleable__control:checked~div.sk-toggleable__content {max-height: 200px;max-width: 100%;overflow: auto;}#sk-container-id-2 input.sk-toggleable__control:checked~label.sk-toggleable__label-arrow:before {content: \"▾\";}#sk-container-id-2 div.sk-estimator input.sk-toggleable__control:checked~label.sk-toggleable__label {background-color: #d4ebff;}#sk-container-id-2 div.sk-label input.sk-toggleable__control:checked~label.sk-toggleable__label {background-color: #d4ebff;}#sk-container-id-2 input.sk-hidden--visually {border: 0;clip: rect(1px 1px 1px 1px);clip: rect(1px, 1px, 1px, 1px);height: 1px;margin: -1px;overflow: hidden;padding: 0;position: absolute;width: 1px;}#sk-container-id-2 div.sk-estimator {font-family: monospace;background-color: #f0f8ff;border: 1px dotted black;border-radius: 0.25em;box-sizing: border-box;margin-bottom: 0.5em;}#sk-container-id-2 div.sk-estimator:hover {background-color: #d4ebff;}#sk-container-id-2 div.sk-parallel-item::after {content: \"\";width: 100%;border-bottom: 1px solid gray;flex-grow: 1;}#sk-container-id-2 div.sk-label:hover label.sk-toggleable__label {background-color: #d4ebff;}#sk-container-id-2 div.sk-serial::before {content: \"\";position: absolute;border-left: 1px solid gray;box-sizing: border-box;top: 0;bottom: 0;left: 50%;z-index: 0;}#sk-container-id-2 div.sk-serial {display: flex;flex-direction: column;align-items: center;background-color: white;padding-right: 0.2em;padding-left: 0.2em;position: relative;}#sk-container-id-2 div.sk-item {position: relative;z-index: 1;}#sk-container-id-2 div.sk-parallel {display: flex;align-items: stretch;justify-content: center;background-color: white;position: relative;}#sk-container-id-2 div.sk-item::before, #sk-container-id-2 div.sk-parallel-item::before {content: \"\";position: absolute;border-left: 1px solid gray;box-sizing: border-box;top: 0;bottom: 0;left: 50%;z-index: -1;}#sk-container-id-2 div.sk-parallel-item {display: flex;flex-direction: column;z-index: 1;position: relative;background-color: white;}#sk-container-id-2 div.sk-parallel-item:first-child::after {align-self: flex-end;width: 50%;}#sk-container-id-2 div.sk-parallel-item:last-child::after {align-self: flex-start;width: 50%;}#sk-container-id-2 div.sk-parallel-item:only-child::after {width: 0;}#sk-container-id-2 div.sk-dashed-wrapped {border: 1px dashed gray;margin: 0 0.4em 0.5em 0.4em;box-sizing: border-box;padding-bottom: 0.4em;background-color: white;}#sk-container-id-2 div.sk-label label {font-family: monospace;font-weight: bold;display: inline-block;line-height: 1.2em;}#sk-container-id-2 div.sk-label-container {text-align: center;}#sk-container-id-2 div.sk-container {/* jupyter's `normalize.less` sets `[hidden] { display: none; }` but bootstrap.min.css set `[hidden] { display: none !important; }` so we also need the `!important` here to be able to override the default hidden behavior on the sphinx rendered scikit-learn.org. See: https://github.com/scikit-learn/scikit-learn/issues/21755 */display: inline-block !important;position: relative;}#sk-container-id-2 div.sk-text-repr-fallback {display: none;}</style><div id=\"sk-container-id-2\" class=\"sk-top-container\"><div class=\"sk-text-repr-fallback\"><pre>RandomForestClassifier()</pre><b>In a Jupyter environment, please rerun this cell to show the HTML representation or trust the notebook. <br />On GitHub, the HTML representation is unable to render, please try loading this page with nbviewer.org.</b></div><div class=\"sk-container\" hidden><div class=\"sk-item\"><div class=\"sk-estimator sk-toggleable\"><input class=\"sk-toggleable__control sk-hidden--visually\" id=\"sk-estimator-id-2\" type=\"checkbox\" checked><label for=\"sk-estimator-id-2\" class=\"sk-toggleable__label sk-toggleable__label-arrow\">RandomForestClassifier</label><div class=\"sk-toggleable__content\"><pre>RandomForestClassifier()</pre></div></div></div></div></div>"
      ],
      "text/plain": [
       "RandomForestClassifier()"
      ]
     },
     "execution_count": 16,
     "metadata": {},
     "output_type": "execute_result"
    }
   ],
   "source": [
    "# Using Min-max scaler\n",
    "scaler = MinMaxScaler()\n",
    "scaled_train_embed = scaler.fit_transform(X_train)\n",
    "scaled_test_embed = scaler.transform(X_test)\n",
    "\n",
    "clf = RandomForestClassifier()\n",
    "clf.fit(scaled_train_embed, y_train)"
   ]
  },
  {
   "cell_type": "code",
   "execution_count": 17,
   "id": "2313ddc5",
   "metadata": {},
   "outputs": [
    {
     "name": "stdout",
     "output_type": "stream",
     "text": [
      "              precision    recall  f1-score   support\n",
      "\n",
      "           0       0.78      0.86      0.82      4444\n",
      "           1       0.85      0.75      0.79      4495\n",
      "           2       0.98      1.00      0.99      4427\n",
      "\n",
      "    accuracy                           0.87     13366\n",
      "   macro avg       0.87      0.87      0.87     13366\n",
      "weighted avg       0.87      0.87      0.87     13366\n",
      "\n"
     ]
    }
   ],
   "source": [
    "y_pred = clf.predict(scaled_test_embed)\n",
    "\n",
    "print(classification_report(y_test, y_pred))"
   ]
  },
  {
   "cell_type": "markdown",
   "id": "deca3371",
   "metadata": {},
   "source": [
    "# Gensim"
   ]
  },
  {
   "cell_type": "code",
   "execution_count": 18,
   "id": "0d2e049c",
   "metadata": {},
   "outputs": [],
   "source": [
    "import gensim.downloader as api"
   ]
  },
  {
   "cell_type": "code",
   "execution_count": 20,
   "id": "0818d51b",
   "metadata": {},
   "outputs": [],
   "source": [
    "wv = api.load('word2vec-google-news-300')"
   ]
  },
  {
   "cell_type": "code",
   "execution_count": 21,
   "id": "fb947774-93de-4503-9c22-444c5e29e372",
   "metadata": {},
   "outputs": [],
   "source": [
    "def vectorize(text):\n",
    "    doc = nlp(text)\n",
    "    filtered_tokens = []\n",
    "    for token in doc:\n",
    "        filtered_tokens.append(token.lemma_)  \n",
    "    return wv.get_mean_vector(filtered_tokens)\n",
    "\n",
    "df['vector'] = df['news'].apply(lambda text: vectorize(text))"
   ]
  },
  {
   "cell_type": "code",
   "execution_count": 22,
   "id": "c4651bea-a3fe-4f2b-93e2-30326a964edc",
   "metadata": {},
   "outputs": [],
   "source": [
    "X = np.stack(df['vector'])\n",
    "y = df['label']"
   ]
  },
  {
   "cell_type": "code",
   "execution_count": 23,
   "id": "30bc0257-a524-4593-997f-deb959f656cc",
   "metadata": {},
   "outputs": [
    {
     "name": "stdout",
     "output_type": "stream",
     "text": [
      "Class distribution before oversampling: Counter({1: 22276, 0: 14586, 2: 651})\n",
      "Class distribution after oversampling: Counter({1: 22276, 0: 22276, 2: 22276})\n"
     ]
    }
   ],
   "source": [
    "# Check the class distribution before oversampling\n",
    "print(\"Class distribution before oversampling:\", Counter(y))\n",
    "\n",
    "smote = SMOTE(random_state=42)\n",
    "X_resampled, y_resampled = smote.fit_resample(X, y)\n",
    "\n",
    "# Check the class distribution after oversampling\n",
    "print(\"Class distribution after oversampling:\", Counter(y_resampled))"
   ]
  },
  {
   "cell_type": "code",
   "execution_count": 24,
   "id": "a5160f1e-27e4-4a41-b119-57a3e2a4825b",
   "metadata": {},
   "outputs": [],
   "source": [
    "X_train, X_test, y_train, y_test = train_test_split(\n",
    "    X_resampled, \n",
    "    y_resampled, \n",
    "    test_size=0.2, # 20% samples will go to test dataset\n",
    "    random_state=2022,\n",
    "    stratify=y_resampled\n",
    ")"
   ]
  },
  {
   "cell_type": "code",
   "execution_count": 25,
   "id": "f66d0c5e-31ac-45f1-942d-5ccf3ca3f318",
   "metadata": {},
   "outputs": [
    {
     "name": "stdout",
     "output_type": "stream",
     "text": [
      "              precision    recall  f1-score   support\n",
      "\n",
      "           0       0.77      0.87      0.82      4455\n",
      "           1       0.85      0.74      0.79      4456\n",
      "           2       0.99      1.00      0.99      4455\n",
      "\n",
      "    accuracy                           0.87     13366\n",
      "   macro avg       0.87      0.87      0.87     13366\n",
      "weighted avg       0.87      0.87      0.87     13366\n",
      "\n"
     ]
    }
   ],
   "source": [
    "# Using Min-max scaler\n",
    "scaler = MinMaxScaler()\n",
    "scaled_train_embed = scaler.fit_transform(X_train)\n",
    "scaled_test_embed = scaler.transform(X_test)\n",
    "\n",
    "clf = RandomForestClassifier()\n",
    "clf.fit(scaled_train_embed, y_train)\n",
    "\n",
    "y_pred = clf.predict(scaled_test_embed)\n",
    "\n",
    "print(classification_report(y_test, y_pred))"
   ]
  },
  {
   "cell_type": "code",
   "execution_count": null,
   "id": "5cebcd7f-6c2c-4cfd-be9a-124a2807df8c",
   "metadata": {},
   "outputs": [],
   "source": []
  }
 ],
 "metadata": {
  "kernelspec": {
   "display_name": "Python 3 (ipykernel)",
   "language": "python",
   "name": "python3"
  },
  "language_info": {
   "codemirror_mode": {
    "name": "ipython",
    "version": 3
   },
   "file_extension": ".py",
   "mimetype": "text/x-python",
   "name": "python",
   "nbconvert_exporter": "python",
   "pygments_lexer": "ipython3",
   "version": "3.11.5"
  }
 },
 "nbformat": 4,
 "nbformat_minor": 5
}
