{
 "cells": [
  {
   "cell_type": "code",
   "execution_count": 1,
   "id": "36ec9f3c-4b16-4058-a0bb-5654ff32cc77",
   "metadata": {},
   "outputs": [],
   "source": [
    "import pickle\n",
    "import numpy as np\n",
    "import spacy\n",
    "import re\n",
    "import string\n",
    "from nltk.corpus import stopwords\n",
    "from nltk.tokenize import word_tokenize\n",
    "from nltk.stem import WordNetLemmatizer\n",
    "\n",
    "nlp = spacy.load(\"en_core_web_lg\")\n",
    "#importing the model\n",
    "model_path = \"crypto_model.pkl\"  # Replace with the actual path to your pickle file\n",
    "with open(model_path, 'rb') as file:\n",
    "    model = pickle.load(file)\n",
    "\n",
    "def preprocess_text(text):\n",
    " \n",
    "    # Convert text to lowercase\n",
    "    text = text.lower()\n",
    "\n",
    "    # Remove numbers and special characters\n",
    "    text = re.sub(r'\\d+', '', text)\n",
    "    text = re.sub(r'[^a-zA-Z0-9\\s\\']', '', text)\n",
    "    text = text.translate(str.maketrans('', '', string.punctuation))\n",
    "\n",
    "    # Tokenize the text into words\n",
    "    words = word_tokenize(text)\n",
    "\n",
    "    # Remove stopwords\n",
    "    stop_words = set(stopwords.words('english'))\n",
    "    words = [word for word in words if word not in stop_words]\n",
    "\n",
    "    # Lemmatize words\n",
    "    lemmatizer = WordNetLemmatizer()\n",
    "    words = [lemmatizer.lemmatize(word) for word in words]\n",
    "\n",
    "    # Join the preprocessed words back into a single string\n",
    "    preprocessed_text = ' '.join(words)\n",
    "\n",
    "    return preprocessed_text\n",
    "    \n",
    "# Sentiment Function \n",
    "def sentiment(n):\n",
    "    sent = model.predict([nlp(preprocess_text(n)).vector])\n",
    "    if sent[0] == 0 :\n",
    "        print (\"Bullish\")\n",
    "    elif sent[0] == 1 :\n",
    "        print(\"Neutral\")\n",
    "    else:\n",
    "        print(\"Bearish\")"
   ]
  },
  {
   "cell_type": "code",
   "execution_count": 2,
   "id": "797441b8-0144-446c-9022-c87d128dfb8f",
   "metadata": {},
   "outputs": [
    {
     "name": "stdout",
     "output_type": "stream",
     "text": [
      "Bullish\n"
     ]
    }
   ],
   "source": [
    "sentiment(\"\tbitcoin altcoins open week bullish move\")"
   ]
  },
  {
   "cell_type": "code",
   "execution_count": 3,
   "id": "4b9b41ab-b3be-404e-ab29-ff893510e7e8",
   "metadata": {},
   "outputs": [
    {
     "name": "stdout",
     "output_type": "stream",
     "text": [
      "Bearish\n"
     ]
    }
   ],
   "source": [
    "sentiment(\"Bitcoin Miners Unload Coins\")"
   ]
  },
  {
   "cell_type": "code",
   "execution_count": 4,
   "id": "a0fa38ff-2273-4af7-b644-671ca33a8775",
   "metadata": {},
   "outputs": [
    {
     "name": "stdout",
     "output_type": "stream",
     "text": [
      "Neutral\n"
     ]
    }
   ],
   "source": [
    "sentiment(\"When Nobel Winner Asks What Problems Bitcoin Solves...\")"
   ]
  }
 ],
 "metadata": {
  "kernelspec": {
   "display_name": "Python 3 (ipykernel)",
   "language": "python",
   "name": "python3"
  },
  "language_info": {
   "codemirror_mode": {
    "name": "ipython",
    "version": 3
   },
   "file_extension": ".py",
   "mimetype": "text/x-python",
   "name": "python",
   "nbconvert_exporter": "python",
   "pygments_lexer": "ipython3",
   "version": "3.11.5"
  }
 },
 "nbformat": 4,
 "nbformat_minor": 5
}
