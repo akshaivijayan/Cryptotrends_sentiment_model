{
 "cells": [
  {
   "cell_type": "code",
   "execution_count": 1,
   "id": "a061f6c8-92ca-4fa6-ae4d-9d807ec1a9d9",
   "metadata": {},
   "outputs": [],
   "source": [
    "import pandas as pd\n",
    "from imblearn.over_sampling import SMOTE\n",
    "import warnings\n",
    "import spacy\n",
    "import numpy as np\n",
    "from sklearn.ensemble import RandomForestClassifier\n",
    "from sklearn.metrics import classification_report\n",
    "from sklearn.model_selection import GridSearchCV\n",
    "from collections import Counter\n",
    "from sklearn.preprocessing import Normalizer\n",
    "warnings.filterwarnings('ignore')"
   ]
  },
  {
   "cell_type": "code",
   "execution_count": 2,
   "id": "8cd5d248-6371-462a-ad6f-6939b944094d",
   "metadata": {},
   "outputs": [
    {
     "data": {
      "text/html": [
       "<div>\n",
       "<style scoped>\n",
       "    .dataframe tbody tr th:only-of-type {\n",
       "        vertical-align: middle;\n",
       "    }\n",
       "\n",
       "    .dataframe tbody tr th {\n",
       "        vertical-align: top;\n",
       "    }\n",
       "\n",
       "    .dataframe thead th {\n",
       "        text-align: right;\n",
       "    }\n",
       "</style>\n",
       "<table border=\"1\" class=\"dataframe\">\n",
       "  <thead>\n",
       "    <tr style=\"text-align: right;\">\n",
       "      <th></th>\n",
       "      <th>news</th>\n",
       "      <th>label</th>\n",
       "    </tr>\n",
       "  </thead>\n",
       "  <tbody>\n",
       "    <tr>\n",
       "      <th>0</th>\n",
       "      <td>bitcoin priced usd mt goxabove gox price pm gm...</td>\n",
       "      <td>1</td>\n",
       "    </tr>\n",
       "    <tr>\n",
       "      <th>1</th>\n",
       "      <td>bitcoin price fib level dmas ok last week like...</td>\n",
       "      <td>0</td>\n",
       "    </tr>\n",
       "    <tr>\n",
       "      <th>2</th>\n",
       "      <td>national australia bank loom melbourne citizen...</td>\n",
       "      <td>1</td>\n",
       "    </tr>\n",
       "    <tr>\n",
       "      <th>3</th>\n",
       "      <td>recent report china indicate may bitcoin ban m...</td>\n",
       "      <td>0</td>\n",
       "    </tr>\n",
       "    <tr>\n",
       "      <th>4</th>\n",
       "      <td>opened st bitcoin trade position price current...</td>\n",
       "      <td>1</td>\n",
       "    </tr>\n",
       "  </tbody>\n",
       "</table>\n",
       "</div>"
      ],
      "text/plain": [
       "                                                news  label\n",
       "0  bitcoin priced usd mt goxabove gox price pm gm...      1\n",
       "1  bitcoin price fib level dmas ok last week like...      0\n",
       "2  national australia bank loom melbourne citizen...      1\n",
       "3  recent report china indicate may bitcoin ban m...      0\n",
       "4  opened st bitcoin trade position price current...      1"
      ]
     },
     "execution_count": 2,
     "metadata": {},
     "output_type": "execute_result"
    }
   ],
   "source": [
    "df = pd.read_csv(\"labelled_crypto_data.csv\")\n",
    "#label encoding\n",
    "df['label'] = df['Sentiment'].map({\n",
    "    'Bullish' : 0, \n",
    "    'Neutral': 1, \n",
    "    'Bearish': 2, \n",
    "})\n",
    "df = df.drop([\"date\",\"Sentiment\"],axis = 1)\n",
    "df.head()"
   ]
  },
  {
   "cell_type": "code",
   "execution_count": 3,
   "id": "34ada18f-8040-447f-8a66-b3fa8b7a8793",
   "metadata": {},
   "outputs": [],
   "source": [
    "# Vectorisation using Word2Vec\n",
    "nlp = spacy.load(\"en_core_web_lg\")\n",
    "df['vector'] = df['news'].apply(lambda text: nlp(text).vector)"
   ]
  },
  {
   "cell_type": "code",
   "execution_count": 5,
   "id": "74394d95-a4c8-4aeb-aae1-f315896dd353",
   "metadata": {},
   "outputs": [],
   "source": [
    "df.head()\n",
    "df.to_csv(\"vectorised_output.csv\",index = False)"
   ]
  },
  {
   "cell_type": "code",
   "execution_count": 6,
   "id": "68e9b580-87c0-43f3-8399-c91d459ef99b",
   "metadata": {},
   "outputs": [
    {
     "name": "stdout",
     "output_type": "stream",
     "text": [
      "Class distribution before oversampling: Counter({1: 22276, 0: 14586, 2: 651})\n",
      "Class distribution after oversampling: Counter({1: 22276, 0: 22276, 2: 22276})\n"
     ]
    }
   ],
   "source": [
    "# Oversampling using smote\n",
    "X = np.stack(df['vector'])\n",
    "y = df['label']\n",
    "# Check the class distribution before oversampling\n",
    "print(\"Class distribution before oversampling:\", Counter(df[\"label\"]))\n",
    "\n",
    "smote = SMOTE(random_state=42)\n",
    "X_re,Y_re = smote.fit_resample(X, y)\n",
    "\n",
    "# Check the class distribution after oversampling\n",
    "print(\"Class distribution after oversampling:\", Counter(Y_re))"
   ]
  },
  {
   "cell_type": "code",
   "execution_count": 7,
   "id": "bcdcfb59-1dff-42d9-a833-753ae75bd7b3",
   "metadata": {},
   "outputs": [
    {
     "name": "stdout",
     "output_type": "stream",
     "text": [
      "params {'criterion': 'gini', 'max_depth': None, 'n_estimators': 100}\n",
      "score 0.8365975257364686\n"
     ]
    }
   ],
   "source": [
    "# Hyperparameter tuning and using cross validation\n",
    "model = RandomForestClassifier()\n",
    "params = {\n",
    "    'n_estimators': [10, 50, 100],\n",
    "    'criterion': ['gini', 'entropy'],\n",
    "    'max_depth': [None, 10, 20, 30],  \n",
    "}\n",
    "grid_search = GridSearchCV(model, params, cv=5, return_train_score=False,n_jobs=-1)\n",
    "grid_search.fit(X_re, Y_re)\n",
    "print('params',grid_search.best_params_)\n",
    "print('score',grid_search.best_score_)"
   ]
  },
  {
   "cell_type": "code",
   "execution_count": 8,
   "id": "0360abf8-edb4-4ae5-93f9-bd6a9da8cb53",
   "metadata": {},
   "outputs": [],
   "source": [
    "# saving the best model to pickle\n",
    "import pickle\n",
    "model = grid_search.best_estimator_\n",
    "model_filename = 'crypto_model.pkl'\n",
    "with open(model_filename, 'wb') as file:\n",
    "    pickle.dump(model, file)"
   ]
  },
  {
   "cell_type": "code",
   "execution_count": null,
   "id": "7004b176-c58a-4ab3-9a0b-8a27de4d0f87",
   "metadata": {},
   "outputs": [],
   "source": []
  }
 ],
 "metadata": {
  "kernelspec": {
   "display_name": "Python 3 (ipykernel)",
   "language": "python",
   "name": "python3"
  },
  "language_info": {
   "codemirror_mode": {
    "name": "ipython",
    "version": 3
   },
   "file_extension": ".py",
   "mimetype": "text/x-python",
   "name": "python",
   "nbconvert_exporter": "python",
   "pygments_lexer": "ipython3",
   "version": "3.11.5"
  }
 },
 "nbformat": 4,
 "nbformat_minor": 5
}
