{
 "cells": [
  {
   "cell_type": "code",
   "execution_count": 9,
   "id": "cb60ae13-c5db-4e4b-a497-98f002206368",
   "metadata": {},
   "outputs": [],
   "source": [
    "import pandas as pd\n",
    "from sklearn.feature_extraction.text import TfidfVectorizer\n",
    "from sklearn.neighbors import KNeighborsClassifier\n",
    "from sklearn.tree import DecisionTreeClassifier\n",
    "from sklearn.ensemble import RandomForestClassifier, AdaBoostClassifier, GradientBoostingClassifier\n",
    "from sklearn.pipeline import Pipeline\n",
    "import seaborn as sns\n",
    "from sklearn.metrics import classification_report\n",
    "from sklearn.model_selection import train_test_split\n",
    "from imblearn.over_sampling import SMOTE\n",
    "%matplotlib inline\n",
    "import warnings\n",
    "from collections import Counter\n",
    "from imblearn.over_sampling import ADASYN\n",
    "warnings.filterwarnings('ignore')"
   ]
  },
  {
   "cell_type": "code",
   "execution_count": 2,
   "id": "1547b202-f767-478d-b0bf-28c5780d0a6b",
   "metadata": {},
   "outputs": [],
   "source": [
    "df = pd.read_csv(\"labelled_crypto_data.csv\")"
   ]
  },
  {
   "cell_type": "code",
   "execution_count": 3,
   "id": "ab49ea24-4d71-4b74-8194-c147ead84ccd",
   "metadata": {},
   "outputs": [
    {
     "data": {
      "text/html": [
       "<div>\n",
       "<style scoped>\n",
       "    .dataframe tbody tr th:only-of-type {\n",
       "        vertical-align: middle;\n",
       "    }\n",
       "\n",
       "    .dataframe tbody tr th {\n",
       "        vertical-align: top;\n",
       "    }\n",
       "\n",
       "    .dataframe thead th {\n",
       "        text-align: right;\n",
       "    }\n",
       "</style>\n",
       "<table border=\"1\" class=\"dataframe\">\n",
       "  <thead>\n",
       "    <tr style=\"text-align: right;\">\n",
       "      <th></th>\n",
       "      <th>news</th>\n",
       "      <th>date</th>\n",
       "      <th>Sentiment</th>\n",
       "    </tr>\n",
       "  </thead>\n",
       "  <tbody>\n",
       "    <tr>\n",
       "      <th>0</th>\n",
       "      <td>bitcoin priced usd mt goxabove gox price pm gm...</td>\n",
       "      <td>2017-08-15</td>\n",
       "      <td>Neutral</td>\n",
       "    </tr>\n",
       "    <tr>\n",
       "      <th>1</th>\n",
       "      <td>bitcoin price fib level dmas ok last week like...</td>\n",
       "      <td>2017-05-12</td>\n",
       "      <td>Bullish</td>\n",
       "    </tr>\n",
       "    <tr>\n",
       "      <th>2</th>\n",
       "      <td>national australia bank loom melbourne citizen...</td>\n",
       "      <td>2017-09-19</td>\n",
       "      <td>Neutral</td>\n",
       "    </tr>\n",
       "    <tr>\n",
       "      <th>3</th>\n",
       "      <td>recent report china indicate may bitcoin ban m...</td>\n",
       "      <td>2014-10-03</td>\n",
       "      <td>Bullish</td>\n",
       "    </tr>\n",
       "    <tr>\n",
       "      <th>4</th>\n",
       "      <td>opened st bitcoin trade position price current...</td>\n",
       "      <td>2016-01-15</td>\n",
       "      <td>Neutral</td>\n",
       "    </tr>\n",
       "  </tbody>\n",
       "</table>\n",
       "</div>"
      ],
      "text/plain": [
       "                                                news        date Sentiment\n",
       "0  bitcoin priced usd mt goxabove gox price pm gm...  2017-08-15   Neutral\n",
       "1  bitcoin price fib level dmas ok last week like...  2017-05-12   Bullish\n",
       "2  national australia bank loom melbourne citizen...  2017-09-19   Neutral\n",
       "3  recent report china indicate may bitcoin ban m...  2014-10-03   Bullish\n",
       "4  opened st bitcoin trade position price current...  2016-01-15   Neutral"
      ]
     },
     "execution_count": 3,
     "metadata": {},
     "output_type": "execute_result"
    }
   ],
   "source": [
    "df.head()"
   ]
  },
  {
   "cell_type": "code",
   "execution_count": 4,
   "id": "c43fddbc-1e9e-442d-ad62-31cae37fdf9e",
   "metadata": {},
   "outputs": [
    {
     "data": {
      "text/html": [
       "<div>\n",
       "<style scoped>\n",
       "    .dataframe tbody tr th:only-of-type {\n",
       "        vertical-align: middle;\n",
       "    }\n",
       "\n",
       "    .dataframe tbody tr th {\n",
       "        vertical-align: top;\n",
       "    }\n",
       "\n",
       "    .dataframe thead th {\n",
       "        text-align: right;\n",
       "    }\n",
       "</style>\n",
       "<table border=\"1\" class=\"dataframe\">\n",
       "  <thead>\n",
       "    <tr style=\"text-align: right;\">\n",
       "      <th></th>\n",
       "      <th>news</th>\n",
       "      <th>date</th>\n",
       "      <th>Sentiment</th>\n",
       "      <th>label</th>\n",
       "    </tr>\n",
       "  </thead>\n",
       "  <tbody>\n",
       "    <tr>\n",
       "      <th>22210</th>\n",
       "      <td>new research found large majority u k company ...</td>\n",
       "      <td>2017-11-23</td>\n",
       "      <td>Neutral</td>\n",
       "      <td>1</td>\n",
       "    </tr>\n",
       "    <tr>\n",
       "      <th>4183</th>\n",
       "      <td>sberbank may household name west happens third...</td>\n",
       "      <td>2017-12-05</td>\n",
       "      <td>Bullish</td>\n",
       "      <td>0</td>\n",
       "    </tr>\n",
       "    <tr>\n",
       "      <th>8355</th>\n",
       "      <td>according national security human right lawyer...</td>\n",
       "      <td>2017-09-25</td>\n",
       "      <td>Neutral</td>\n",
       "      <td>1</td>\n",
       "    </tr>\n",
       "    <tr>\n",
       "      <th>21346</th>\n",
       "      <td>earlier today december bitcoin price achieved ...</td>\n",
       "      <td>2015-06-03</td>\n",
       "      <td>Bullish</td>\n",
       "      <td>0</td>\n",
       "    </tr>\n",
       "    <tr>\n",
       "      <th>35560</th>\n",
       "      <td>bitcoin altcoins trend turning bearish</td>\n",
       "      <td>2020-01-10</td>\n",
       "      <td>Neutral</td>\n",
       "      <td>1</td>\n",
       "    </tr>\n",
       "  </tbody>\n",
       "</table>\n",
       "</div>"
      ],
      "text/plain": [
       "                                                    news        date  \\\n",
       "22210  new research found large majority u k company ...  2017-11-23   \n",
       "4183   sberbank may household name west happens third...  2017-12-05   \n",
       "8355   according national security human right lawyer...  2017-09-25   \n",
       "21346  earlier today december bitcoin price achieved ...  2015-06-03   \n",
       "35560             bitcoin altcoins trend turning bearish  2020-01-10   \n",
       "\n",
       "      Sentiment  label  \n",
       "22210   Neutral      1  \n",
       "4183    Bullish      0  \n",
       "8355    Neutral      1  \n",
       "21346   Bullish      0  \n",
       "35560   Neutral      1  "
      ]
     },
     "execution_count": 4,
     "metadata": {},
     "output_type": "execute_result"
    }
   ],
   "source": [
    "#label encoding\n",
    "df['label'] = df['Sentiment'].map({\n",
    "    'Bullish' : 0, \n",
    "    'Neutral': 1, \n",
    "    'Bearish': 2, \n",
    "})\n",
    "df.sample(5)"
   ]
  },
  {
   "cell_type": "code",
   "execution_count": 5,
   "id": "d3658168-555e-41da-81b4-5402ae69c583",
   "metadata": {},
   "outputs": [],
   "source": [
    "df = df.drop([\"date\",\"Sentiment\"],axis = 1)"
   ]
  },
  {
   "cell_type": "code",
   "execution_count": 6,
   "id": "ff0fcc45-ac89-4819-95ef-eaec21382581",
   "metadata": {},
   "outputs": [
    {
     "data": {
      "text/html": [
       "<div>\n",
       "<style scoped>\n",
       "    .dataframe tbody tr th:only-of-type {\n",
       "        vertical-align: middle;\n",
       "    }\n",
       "\n",
       "    .dataframe tbody tr th {\n",
       "        vertical-align: top;\n",
       "    }\n",
       "\n",
       "    .dataframe thead th {\n",
       "        text-align: right;\n",
       "    }\n",
       "</style>\n",
       "<table border=\"1\" class=\"dataframe\">\n",
       "  <thead>\n",
       "    <tr style=\"text-align: right;\">\n",
       "      <th></th>\n",
       "      <th>news</th>\n",
       "      <th>label</th>\n",
       "    </tr>\n",
       "  </thead>\n",
       "  <tbody>\n",
       "    <tr>\n",
       "      <th>0</th>\n",
       "      <td>bitcoin priced usd mt goxabove gox price pm gm...</td>\n",
       "      <td>1</td>\n",
       "    </tr>\n",
       "    <tr>\n",
       "      <th>1</th>\n",
       "      <td>bitcoin price fib level dmas ok last week like...</td>\n",
       "      <td>0</td>\n",
       "    </tr>\n",
       "    <tr>\n",
       "      <th>2</th>\n",
       "      <td>national australia bank loom melbourne citizen...</td>\n",
       "      <td>1</td>\n",
       "    </tr>\n",
       "    <tr>\n",
       "      <th>3</th>\n",
       "      <td>recent report china indicate may bitcoin ban m...</td>\n",
       "      <td>0</td>\n",
       "    </tr>\n",
       "    <tr>\n",
       "      <th>4</th>\n",
       "      <td>opened st bitcoin trade position price current...</td>\n",
       "      <td>1</td>\n",
       "    </tr>\n",
       "  </tbody>\n",
       "</table>\n",
       "</div>"
      ],
      "text/plain": [
       "                                                news  label\n",
       "0  bitcoin priced usd mt goxabove gox price pm gm...      1\n",
       "1  bitcoin price fib level dmas ok last week like...      0\n",
       "2  national australia bank loom melbourne citizen...      1\n",
       "3  recent report china indicate may bitcoin ban m...      0\n",
       "4  opened st bitcoin trade position price current...      1"
      ]
     },
     "execution_count": 6,
     "metadata": {},
     "output_type": "execute_result"
    }
   ],
   "source": [
    "df.head()"
   ]
  },
  {
   "cell_type": "markdown",
   "id": "0fc17e4b-d558-4f06-aa8e-5e2c299dca96",
   "metadata": {},
   "source": [
    "### Tfidf vectorizer & SMOTE is used on all models "
   ]
  },
  {
   "cell_type": "code",
   "execution_count": 11,
   "id": "d7c5d438-9430-4c1b-8519-417d003bd9aa",
   "metadata": {},
   "outputs": [
    {
     "name": "stdout",
     "output_type": "stream",
     "text": [
      "Class distribution before oversampling: Counter({1: 22276, 0: 14586, 2: 651})\n",
      "Class distribution after oversampling: Counter({1: 22276, 0: 22276, 2: 22276})\n"
     ]
    }
   ],
   "source": [
    "# Check the class distribution before oversampling\n",
    "print(\"Class distribution before oversampling:\", Counter(df['label']))\n",
    "\n",
    "X = df['news']\n",
    "y = df['label']\n",
    "\n",
    "tfidf_vectorizer = TfidfVectorizer()\n",
    "tfidf_features = tfidf_vectorizer.fit_transform(X)\n",
    "\n",
    "smote = SMOTE(random_state=42)\n",
    "X_resampled, y_resampled = smote.fit_resample(tfidf_features, y)\n",
    "\n",
    "# Check the class distribution after oversampling\n",
    "print(\"Class distribution after oversampling:\", Counter(y_resampled))"
   ]
  },
  {
   "cell_type": "code",
   "execution_count": 13,
   "id": "ff2c44ac-b12a-463f-9a37-b78a9ba7a8e2",
   "metadata": {},
   "outputs": [],
   "source": [
    "# Train_Test Split\n",
    "X_train, X_test, y_train, y_test = train_test_split(\n",
    "    X_resampled,\n",
    "    y_resampled, \n",
    "    test_size=0.2, # 20% samples will go to test dataset\n",
    "    random_state=2022,\n",
    "    stratify=y_resampled\n",
    ")"
   ]
  },
  {
   "cell_type": "markdown",
   "id": "f328bd32-daf0-4db4-99c0-b29d066235ca",
   "metadata": {},
   "source": [
    "# Decision Tree"
   ]
  },
  {
   "cell_type": "code",
   "execution_count": 14,
   "id": "8fef0523-1093-4187-9fd6-5e5ded2902bd",
   "metadata": {},
   "outputs": [
    {
     "name": "stdout",
     "output_type": "stream",
     "text": [
      "              precision    recall  f1-score   support\n",
      "\n",
      "           0       0.73      0.72      0.72      4455\n",
      "           1       0.72      0.70      0.71      4456\n",
      "           2       0.95      0.98      0.96      4455\n",
      "\n",
      "    accuracy                           0.80     13366\n",
      "   macro avg       0.80      0.80      0.80     13366\n",
      "weighted avg       0.80      0.80      0.80     13366\n",
      "\n"
     ]
    }
   ],
   "source": [
    "# Create a Decision tree model and printing classification report\n",
    "decision_tree = DecisionTreeClassifier()\n",
    "\n",
    "decision_tree.fit(X_train, y_train)\n",
    "y_pred = decision_tree.predict(X_test)\n",
    "\n",
    "classification_rep = classification_report(y_test, y_pred)\n",
    "print(classification_rep)"
   ]
  },
  {
   "cell_type": "markdown",
   "id": "e59461ed-baeb-4863-946b-81453fb9006e",
   "metadata": {},
   "source": [
    "# Random Forest "
   ]
  },
  {
   "cell_type": "code",
   "execution_count": 15,
   "id": "99651e03-ee00-458a-8db3-b5c41e0e7ff1",
   "metadata": {},
   "outputs": [
    {
     "name": "stdout",
     "output_type": "stream",
     "text": [
      "              precision    recall  f1-score   support\n",
      "\n",
      "           0       0.74      0.91      0.82      4455\n",
      "           1       0.88      0.69      0.77      4456\n",
      "           2       1.00      1.00      1.00      4455\n",
      "\n",
      "    accuracy                           0.86     13366\n",
      "   macro avg       0.87      0.86      0.86     13366\n",
      "weighted avg       0.87      0.86      0.86     13366\n",
      "\n"
     ]
    }
   ],
   "source": [
    "# Create a random forest model and printing classification report\n",
    "random_forest = RandomForestClassifier()\n",
    "\n",
    "random_forest.fit(X_train, y_train)\n",
    "y_pred = random_forest.predict(X_test)\n",
    "\n",
    "classification_rep = classification_report(y_test, y_pred)\n",
    "print(classification_rep)"
   ]
  },
  {
   "cell_type": "markdown",
   "id": "08ccd0e1-4cae-487d-bb33-41354096aa7c",
   "metadata": {},
   "source": [
    "# K nearest neighbour"
   ]
  },
  {
   "cell_type": "code",
   "execution_count": 16,
   "id": "7072eba0-9e45-41ba-b92d-0d7654d2aab9",
   "metadata": {},
   "outputs": [
    {
     "name": "stdout",
     "output_type": "stream",
     "text": [
      "              precision    recall  f1-score   support\n",
      "\n",
      "           0       0.67      0.88      0.76      4455\n",
      "           1       0.92      0.34      0.49      4456\n",
      "           2       0.76      1.00      0.86      4455\n",
      "\n",
      "    accuracy                           0.74     13366\n",
      "   macro avg       0.78      0.74      0.70     13366\n",
      "weighted avg       0.78      0.74      0.70     13366\n",
      "\n"
     ]
    }
   ],
   "source": [
    "# Create a KNN classifier and printing classification report\n",
    "knn_classifier = KNeighborsClassifier()\n",
    "\n",
    "knn_classifier.fit(X_train, y_train)\n",
    "y_pred = knn_classifier.predict(X_test)\n",
    "\n",
    "classification_rep = classification_report(y_test, y_pred)\n",
    "print(classification_rep)"
   ]
  },
  {
   "cell_type": "markdown",
   "id": "9b1343b6-e141-4795-8153-97edd4f5c9a8",
   "metadata": {},
   "source": [
    "# AdaBoostClassifier"
   ]
  },
  {
   "cell_type": "code",
   "execution_count": 17,
   "id": "fc7e99d6-72e9-4364-89e4-c1f9f3db4c32",
   "metadata": {},
   "outputs": [
    {
     "name": "stdout",
     "output_type": "stream",
     "text": [
      "              precision    recall  f1-score   support\n",
      "\n",
      "           0       0.65      0.66      0.66      4455\n",
      "           1       0.53      0.61      0.57      4456\n",
      "           2       0.81      0.68      0.74      4455\n",
      "\n",
      "    accuracy                           0.65     13366\n",
      "   macro avg       0.66      0.65      0.65     13366\n",
      "weighted avg       0.66      0.65      0.65     13366\n",
      "\n"
     ]
    }
   ],
   "source": [
    "# Create a AdaBoostClassifier and printing classification report\n",
    "ada_boost = AdaBoostClassifier()\n",
    "\n",
    "ada_boost.fit(X_train, y_train)\n",
    "y_pred = ada_boost.predict(X_test)\n",
    "\n",
    "classification_rep = classification_report(y_test, y_pred)\n",
    "print(classification_rep)"
   ]
  },
  {
   "cell_type": "markdown",
   "id": "81f324eb-0407-404f-b91e-0f2c12f3a88d",
   "metadata": {},
   "source": [
    "# GradientBoostingClassifier"
   ]
  },
  {
   "cell_type": "code",
   "execution_count": 18,
   "id": "e49a18dc-81a7-48df-9a83-60326d577d77",
   "metadata": {},
   "outputs": [
    {
     "name": "stdout",
     "output_type": "stream",
     "text": [
      "              precision    recall  f1-score   support\n",
      "\n",
      "           0       0.72      0.75      0.74      4455\n",
      "           1       0.70      0.66      0.68      4456\n",
      "           2       0.89      0.90      0.90      4455\n",
      "\n",
      "    accuracy                           0.77     13366\n",
      "   macro avg       0.77      0.77      0.77     13366\n",
      "weighted avg       0.77      0.77      0.77     13366\n",
      "\n"
     ]
    }
   ],
   "source": [
    "# Create a GradientBoostingClassifier and printing classification report\n",
    "gradient = GradientBoostingClassifier()\n",
    "\n",
    "gradient.fit(X_train, y_train)\n",
    "y_pred = gradient.predict(X_test)\n",
    "\n",
    "classification_rep = classification_report(y_test, y_pred)\n",
    "print(classification_rep)"
   ]
  },
  {
   "cell_type": "code",
   "execution_count": null,
   "id": "f3f85f32-fb8c-4870-8cf2-4f874223b678",
   "metadata": {},
   "outputs": [],
   "source": []
  }
 ],
 "metadata": {
  "kernelspec": {
   "display_name": "Python 3 (ipykernel)",
   "language": "python",
   "name": "python3"
  },
  "language_info": {
   "codemirror_mode": {
    "name": "ipython",
    "version": 3
   },
   "file_extension": ".py",
   "mimetype": "text/x-python",
   "name": "python",
   "nbconvert_exporter": "python",
   "pygments_lexer": "ipython3",
   "version": "3.11.5"
  }
 },
 "nbformat": 4,
 "nbformat_minor": 5
}
